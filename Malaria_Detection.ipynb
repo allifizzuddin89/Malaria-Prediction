{
  "nbformat": 4,
  "nbformat_minor": 0,
  "metadata": {
    "colab": {
      "name": "Malaria Detection.ipynb",
      "provenance": [],
      "collapsed_sections": [],
      "mount_file_id": "1DuoJ93FZSuIcgyig84Ga9Y-FVTlmypdx",
      "authorship_tag": "ABX9TyPRYlj2IdSDaSP+mgnzrMD2",
      "include_colab_link": true
    },
    "kernelspec": {
      "name": "python3",
      "display_name": "Python 3"
    },
    "accelerator": "GPU"
  },
  "cells": [
    {
      "cell_type": "markdown",
      "metadata": {
        "id": "view-in-github",
        "colab_type": "text"
      },
      "source": [
        "<a href=\"https://colab.research.google.com/github/allifizzuddin89/Malaria-Prediction/blob/master/Malaria_Detection.ipynb\" target=\"_parent\"><img src=\"https://colab.research.google.com/assets/colab-badge.svg\" alt=\"Open In Colab\"/></a>"
      ]
    },
    {
      "cell_type": "code",
      "metadata": {
        "colab": {
          "base_uri": "https://localhost:8080/"
        },
        "id": "px1DIl91aTc2",
        "outputId": "d8b78060-fca7-4cec-f475-912aacc6ad0e"
      },
      "source": [
        "from google.colab import drive\n",
        "drive.mount('/content/gdrive')"
      ],
      "execution_count": 1,
      "outputs": [
        {
          "output_type": "stream",
          "text": [
            "Mounted at /content/gdrive\n"
          ],
          "name": "stdout"
        }
      ]
    },
    {
      "cell_type": "code",
      "metadata": {
        "colab": {
          "base_uri": "https://localhost:8080/"
        },
        "id": "-YnyBQSlaLHa",
        "outputId": "76407d5c-2daf-4019-fb8d-c930d3c7d972"
      },
      "source": [
        "!pwd"
      ],
      "execution_count": null,
      "outputs": [
        {
          "output_type": "stream",
          "text": [
            "/content/drive/MyDrive/COLAB/Malaria detection\n"
          ],
          "name": "stdout"
        }
      ]
    },
    {
      "cell_type": "code",
      "metadata": {
        "id": "VTDcs9xn2g-d"
      },
      "source": [
        "import os\n",
        "os.chdir('/content/drive/MyDrive/COLAB/Malaria detection')"
      ],
      "execution_count": null,
      "outputs": []
    },
    {
      "cell_type": "code",
      "metadata": {
        "id": "MbsFREZg0pn5"
      },
      "source": [
        "#just in case if the image dataset is not splitted yet\n",
        "#pip install split-folders\n",
        "#'Data' is the dir or image dataset folder name\n",
        "#import split_folders\n",
        "#split_folders.ratio('Data', output=\"output\", seed=1337, ratio=(.8, 0.1,0.1)) \n"
      ],
      "execution_count": null,
      "outputs": []
    },
    {
      "cell_type": "code",
      "metadata": {
        "colab": {
          "base_uri": "https://localhost:8080/"
        },
        "id": "HmCqFeU832io",
        "outputId": "90f97e19-bf04-448f-c960-8b699a0a3b86"
      },
      "source": [
        "import tensorflow as tf\n",
        "print(tf.__version__)"
      ],
      "execution_count": null,
      "outputs": [
        {
          "output_type": "stream",
          "text": [
            "2.4.1\n"
          ],
          "name": "stdout"
        }
      ]
    },
    {
      "cell_type": "markdown",
      "metadata": {
        "id": "rj6ZAwZlvEc0"
      },
      "source": [
        "Creating CNN From Scratch and Transfer Learning\n",
        "1. Transfer Learning\n"
      ]
    },
    {
      "cell_type": "code",
      "metadata": {
        "id": "rQg6SbTq9kqk"
      },
      "source": [
        "from tensorflow.keras.layers import Input, Lambda, Dense, Flatten, Conv2D\n",
        "from tensorflow.keras.models import Model\n",
        "from tensorflow.keras.applications.vgg19 import VGG19\n",
        "from tensorflow.keras.applications.resnet50 import preprocess_input\n",
        "from tensorflow.keras.preprocessing import image\n",
        "from tensorflow.keras.preprocessing.image import ImageDataGenerator, load_img\n",
        "from tensorflow.keras.models import Sequential\n",
        "import numpy as np\n",
        "from glob import glob\n",
        "import matplotlib.pyplot as plt\n"
      ],
      "execution_count": null,
      "outputs": []
    },
    {
      "cell_type": "code",
      "metadata": {
        "id": "dlS6_snp_56T"
      },
      "source": [
        " #resize image to 224 px\n",
        " Image_size = [224, 224]\n",
        "\n",
        "#path dir in google drive\n",
        "#generate test, train data before call here\n",
        " train_path = \"/content/drive/MyDrive/COLAB/Malaria detection/dataset/Train\"\n",
        " test_path = \"/content/drive/MyDrive/COLAB/Malaria detection/dataset/Test\""
      ],
      "execution_count": null,
      "outputs": []
    },
    {
      "cell_type": "code",
      "metadata": {
        "colab": {
          "base_uri": "https://localhost:8080/"
        },
        "id": "uaKq56XUC_W1",
        "outputId": "0c878580-232f-43a0-80d5-e20e7aae4b0a"
      },
      "source": [
        "vgg19 = VGG19(input_shape=Image_size + [3], weights='imagenet', include_top=False) # [3] is rgb channel"
      ],
      "execution_count": null,
      "outputs": [
        {
          "output_type": "stream",
          "text": [
            "Downloading data from https://storage.googleapis.com/tensorflow/keras-applications/vgg19/vgg19_weights_tf_dim_ordering_tf_kernels_notop.h5\n",
            "80142336/80134624 [==============================] - 1s 0us/step\n"
          ],
          "name": "stdout"
        }
      ]
    },
    {
      "cell_type": "code",
      "metadata": {
        "colab": {
          "base_uri": "https://localhost:8080/"
        },
        "id": "3tWQJy1QEsf6",
        "outputId": "0efec6f8-1c13-4a56-b15c-0320def0e7e0"
      },
      "source": [
        "vgg19.summary()"
      ],
      "execution_count": null,
      "outputs": [
        {
          "output_type": "stream",
          "text": [
            "Model: \"vgg19\"\n",
            "_________________________________________________________________\n",
            "Layer (type)                 Output Shape              Param #   \n",
            "=================================================================\n",
            "input_1 (InputLayer)         [(None, 224, 224, 3)]     0         \n",
            "_________________________________________________________________\n",
            "block1_conv1 (Conv2D)        (None, 224, 224, 64)      1792      \n",
            "_________________________________________________________________\n",
            "block1_conv2 (Conv2D)        (None, 224, 224, 64)      36928     \n",
            "_________________________________________________________________\n",
            "block1_pool (MaxPooling2D)   (None, 112, 112, 64)      0         \n",
            "_________________________________________________________________\n",
            "block2_conv1 (Conv2D)        (None, 112, 112, 128)     73856     \n",
            "_________________________________________________________________\n",
            "block2_conv2 (Conv2D)        (None, 112, 112, 128)     147584    \n",
            "_________________________________________________________________\n",
            "block2_pool (MaxPooling2D)   (None, 56, 56, 128)       0         \n",
            "_________________________________________________________________\n",
            "block3_conv1 (Conv2D)        (None, 56, 56, 256)       295168    \n",
            "_________________________________________________________________\n",
            "block3_conv2 (Conv2D)        (None, 56, 56, 256)       590080    \n",
            "_________________________________________________________________\n",
            "block3_conv3 (Conv2D)        (None, 56, 56, 256)       590080    \n",
            "_________________________________________________________________\n",
            "block3_conv4 (Conv2D)        (None, 56, 56, 256)       590080    \n",
            "_________________________________________________________________\n",
            "block3_pool (MaxPooling2D)   (None, 28, 28, 256)       0         \n",
            "_________________________________________________________________\n",
            "block4_conv1 (Conv2D)        (None, 28, 28, 512)       1180160   \n",
            "_________________________________________________________________\n",
            "block4_conv2 (Conv2D)        (None, 28, 28, 512)       2359808   \n",
            "_________________________________________________________________\n",
            "block4_conv3 (Conv2D)        (None, 28, 28, 512)       2359808   \n",
            "_________________________________________________________________\n",
            "block4_conv4 (Conv2D)        (None, 28, 28, 512)       2359808   \n",
            "_________________________________________________________________\n",
            "block4_pool (MaxPooling2D)   (None, 14, 14, 512)       0         \n",
            "_________________________________________________________________\n",
            "block5_conv1 (Conv2D)        (None, 14, 14, 512)       2359808   \n",
            "_________________________________________________________________\n",
            "block5_conv2 (Conv2D)        (None, 14, 14, 512)       2359808   \n",
            "_________________________________________________________________\n",
            "block5_conv3 (Conv2D)        (None, 14, 14, 512)       2359808   \n",
            "_________________________________________________________________\n",
            "block5_conv4 (Conv2D)        (None, 14, 14, 512)       2359808   \n",
            "_________________________________________________________________\n",
            "block5_pool (MaxPooling2D)   (None, 7, 7, 512)         0         \n",
            "=================================================================\n",
            "Total params: 20,024,384\n",
            "Trainable params: 20,024,384\n",
            "Non-trainable params: 0\n",
            "_________________________________________________________________\n"
          ],
          "name": "stdout"
        }
      ]
    },
    {
      "cell_type": "code",
      "metadata": {
        "id": "vfeJDvrtFbJe"
      },
      "source": [
        "#dont train existing weights since we are using transfer learning\n",
        "#retraining only happen in last layer\n",
        "\n",
        "for layer in vgg19.layers:\n",
        "  layer.trainable = False"
      ],
      "execution_count": null,
      "outputs": []
    },
    {
      "cell_type": "code",
      "metadata": {
        "id": "YBfwMHVXGXvi"
      },
      "source": [
        "#useful to get number of output class\n",
        "folders = glob(\"/content/drive/MyDrive/COLAB/Malaria detection/dataset/Train/*\") "
      ],
      "execution_count": null,
      "outputs": []
    },
    {
      "cell_type": "code",
      "metadata": {
        "colab": {
          "base_uri": "https://localhost:8080/"
        },
        "id": "loARD8JdGzG7",
        "outputId": "3b436014-220d-482e-abaa-0aad62bebfeb"
      },
      "source": [
        "folders"
      ],
      "execution_count": null,
      "outputs": [
        {
          "output_type": "execute_result",
          "data": {
            "text/plain": [
              "['/content/drive/MyDrive/COLAB/Malaria detection/dataset/Train/Parasite',\n",
              " '/content/drive/MyDrive/COLAB/Malaria detection/dataset/Train/Uninfected']"
            ]
          },
          "metadata": {
            "tags": []
          },
          "execution_count": 11
        }
      ]
    },
    {
      "cell_type": "code",
      "metadata": {
        "id": "pO61l1keG1dM"
      },
      "source": [
        "#our layers - can add more\n",
        "x = Flatten()(vgg19.output)"
      ],
      "execution_count": null,
      "outputs": []
    },
    {
      "cell_type": "code",
      "metadata": {
        "id": "uFdpQ8ZVHt_6"
      },
      "source": [
        "#dense layer\n",
        "#sigmoid activation more suitable for binary classification, 1 node\n",
        "#in this case 2 nodes at output layers\n",
        "prediction = Dense(len(folders), activation='softmax')(x) \n",
        "\n",
        "#create a model object\n",
        "model = Model(inputs=vgg19.input, outputs=prediction)"
      ],
      "execution_count": null,
      "outputs": []
    },
    {
      "cell_type": "code",
      "metadata": {
        "colab": {
          "base_uri": "https://localhost:8080/"
        },
        "id": "nzTsFgh7IEmf",
        "outputId": "404b1e61-84b0-4776-b51e-9a380b275d79"
      },
      "source": [
        "#structure of the model\n",
        "model.summary()"
      ],
      "execution_count": null,
      "outputs": [
        {
          "output_type": "stream",
          "text": [
            "Model: \"model\"\n",
            "_________________________________________________________________\n",
            "Layer (type)                 Output Shape              Param #   \n",
            "=================================================================\n",
            "input_1 (InputLayer)         [(None, 224, 224, 3)]     0         \n",
            "_________________________________________________________________\n",
            "block1_conv1 (Conv2D)        (None, 224, 224, 64)      1792      \n",
            "_________________________________________________________________\n",
            "block1_conv2 (Conv2D)        (None, 224, 224, 64)      36928     \n",
            "_________________________________________________________________\n",
            "block1_pool (MaxPooling2D)   (None, 112, 112, 64)      0         \n",
            "_________________________________________________________________\n",
            "block2_conv1 (Conv2D)        (None, 112, 112, 128)     73856     \n",
            "_________________________________________________________________\n",
            "block2_conv2 (Conv2D)        (None, 112, 112, 128)     147584    \n",
            "_________________________________________________________________\n",
            "block2_pool (MaxPooling2D)   (None, 56, 56, 128)       0         \n",
            "_________________________________________________________________\n",
            "block3_conv1 (Conv2D)        (None, 56, 56, 256)       295168    \n",
            "_________________________________________________________________\n",
            "block3_conv2 (Conv2D)        (None, 56, 56, 256)       590080    \n",
            "_________________________________________________________________\n",
            "block3_conv3 (Conv2D)        (None, 56, 56, 256)       590080    \n",
            "_________________________________________________________________\n",
            "block3_conv4 (Conv2D)        (None, 56, 56, 256)       590080    \n",
            "_________________________________________________________________\n",
            "block3_pool (MaxPooling2D)   (None, 28, 28, 256)       0         \n",
            "_________________________________________________________________\n",
            "block4_conv1 (Conv2D)        (None, 28, 28, 512)       1180160   \n",
            "_________________________________________________________________\n",
            "block4_conv2 (Conv2D)        (None, 28, 28, 512)       2359808   \n",
            "_________________________________________________________________\n",
            "block4_conv3 (Conv2D)        (None, 28, 28, 512)       2359808   \n",
            "_________________________________________________________________\n",
            "block4_conv4 (Conv2D)        (None, 28, 28, 512)       2359808   \n",
            "_________________________________________________________________\n",
            "block4_pool (MaxPooling2D)   (None, 14, 14, 512)       0         \n",
            "_________________________________________________________________\n",
            "block5_conv1 (Conv2D)        (None, 14, 14, 512)       2359808   \n",
            "_________________________________________________________________\n",
            "block5_conv2 (Conv2D)        (None, 14, 14, 512)       2359808   \n",
            "_________________________________________________________________\n",
            "block5_conv3 (Conv2D)        (None, 14, 14, 512)       2359808   \n",
            "_________________________________________________________________\n",
            "block5_conv4 (Conv2D)        (None, 14, 14, 512)       2359808   \n",
            "_________________________________________________________________\n",
            "block5_pool (MaxPooling2D)   (None, 7, 7, 512)         0         \n",
            "_________________________________________________________________\n",
            "flatten (Flatten)            (None, 25088)             0         \n",
            "_________________________________________________________________\n",
            "dense (Dense)                (None, 2)                 50178     \n",
            "=================================================================\n",
            "Total params: 20,074,562\n",
            "Trainable params: 50,178\n",
            "Non-trainable params: 20,024,384\n",
            "_________________________________________________________________\n"
          ],
          "name": "stdout"
        }
      ]
    },
    {
      "cell_type": "code",
      "metadata": {
        "id": "LPu_7tyj7-CD"
      },
      "source": [
        "model.compile(\n",
        "    loss='categorical_crossentropy', #2 nodes output layer, 1node=binary_crossentropy\n",
        "    optimizer='adam',\n",
        "    metrics=['accuracy']\n",
        ")"
      ],
      "execution_count": null,
      "outputs": []
    },
    {
      "cell_type": "code",
      "metadata": {
        "id": "CDdiB16h8Use"
      },
      "source": [
        "#Use the Image Generator to import the images from dataset\n",
        "from tensorflow.keras.preprocessing.image import ImageDataGenerator\n",
        "\n",
        "#rescale the pixel to 0-1, max pixel density for rgb is 255, so divide by 255\n",
        "train_datagen = ImageDataGenerator(rescale=1./255,\n",
        "                                   shear_range=0.2,\n",
        "                                   zoom_range=0.2,\n",
        "                                   horizontal_flip=True)\n",
        "\n",
        "#only scaling, no augmentation\n",
        "test_datagen = ImageDataGenerator(rescale=1./255)"
      ],
      "execution_count": null,
      "outputs": []
    },
    {
      "cell_type": "code",
      "metadata": {
        "colab": {
          "base_uri": "https://localhost:8080/"
        },
        "id": "7orumWATxhw5",
        "outputId": "f1d0744d-4f9f-40b3-f367-e30c64712ea1"
      },
      "source": [
        "#make sure target size is exactly same as initialized for image size\n",
        "training_set = train_datagen.flow_from_directory('dataset/Train',\n",
        "                                                 target_size=(224,224),\n",
        "                                                 batch_size=32,\n",
        "                                                 class_mode='categorical')"
      ],
      "execution_count": null,
      "outputs": [
        {
          "output_type": "stream",
          "text": [
            "Found 416 images belonging to 2 classes.\n"
          ],
          "name": "stdout"
        }
      ]
    },
    {
      "cell_type": "code",
      "metadata": {
        "colab": {
          "base_uri": "https://localhost:8080/"
        },
        "id": "OrSicSR81h3d",
        "outputId": "5d269c7c-e344-419f-cfbc-7697026dcf74"
      },
      "source": [
        "training_set"
      ],
      "execution_count": null,
      "outputs": [
        {
          "output_type": "execute_result",
          "data": {
            "text/plain": [
              "<tensorflow.python.keras.preprocessing.image.DirectoryIterator at 0x7f0820361550>"
            ]
          },
          "metadata": {
            "tags": []
          },
          "execution_count": 18
        }
      ]
    },
    {
      "cell_type": "code",
      "metadata": {
        "colab": {
          "base_uri": "https://localhost:8080/"
        },
        "id": "l6q_Itf-1pvC",
        "outputId": "929d5ff6-076b-4208-d984-ff472d2d8d7e"
      },
      "source": [
        "test_set = test_datagen.flow_from_directory('dataset/Test',\n",
        "                                            target_size=(224,224),\n",
        "                                            batch_size=32,\n",
        "                                            class_mode='categorical')"
      ],
      "execution_count": null,
      "outputs": [
        {
          "output_type": "stream",
          "text": [
            "Found 134 images belonging to 2 classes.\n"
          ],
          "name": "stdout"
        }
      ]
    },
    {
      "cell_type": "code",
      "metadata": {
        "colab": {
          "base_uri": "https://localhost:8080/"
        },
        "id": "kSQYCTZF2UOs",
        "outputId": "9f4ed0f7-70ec-41c0-b974-f49b9a8b90f1"
      },
      "source": [
        "test_set"
      ],
      "execution_count": null,
      "outputs": [
        {
          "output_type": "execute_result",
          "data": {
            "text/plain": [
              "<tensorflow.python.keras.preprocessing.image.DirectoryIterator at 0x7f0820361be0>"
            ]
          },
          "metadata": {
            "tags": []
          },
          "execution_count": 20
        }
      ]
    },
    {
      "cell_type": "code",
      "metadata": {
        "colab": {
          "base_uri": "https://localhost:8080/"
        },
        "id": "idKcd40S2eCf",
        "outputId": "51f7b216-56c5-4480-8842-ffe555469392"
      },
      "source": [
        "#fit the model\n",
        "\n",
        "detect = model.fit(\n",
        "    training_set,\n",
        "    validation_data=test_set,\n",
        "    epochs=6,\n",
        "    steps_per_epoch=len(training_set),\n",
        "    validation_steps=len(test_set)\n",
        ")"
      ],
      "execution_count": null,
      "outputs": [
        {
          "output_type": "stream",
          "text": [
            "Epoch 1/6\n",
            "13/13 [==============================] - 6s 450ms/step - loss: 0.2821 - accuracy: 0.8726 - val_loss: 0.4275 - val_accuracy: 0.7761\n",
            "Epoch 2/6\n",
            "13/13 [==============================] - 6s 438ms/step - loss: 0.2392 - accuracy: 0.9183 - val_loss: 0.3243 - val_accuracy: 0.8731\n",
            "Epoch 3/6\n",
            "13/13 [==============================] - 6s 436ms/step - loss: 0.2659 - accuracy: 0.8822 - val_loss: 0.3220 - val_accuracy: 0.8433\n",
            "Epoch 4/6\n",
            "13/13 [==============================] - 6s 441ms/step - loss: 0.2320 - accuracy: 0.9087 - val_loss: 0.4022 - val_accuracy: 0.7836\n",
            "Epoch 5/6\n",
            "13/13 [==============================] - 6s 441ms/step - loss: 0.2066 - accuracy: 0.9279 - val_loss: 0.2856 - val_accuracy: 0.9030\n",
            "Epoch 6/6\n",
            "13/13 [==============================] - 6s 438ms/step - loss: 0.2062 - accuracy: 0.9351 - val_loss: 0.3559 - val_accuracy: 0.8209\n"
          ],
          "name": "stdout"
        }
      ]
    },
    {
      "cell_type": "code",
      "metadata": {
        "colab": {
          "base_uri": "https://localhost:8080/",
          "height": 282
        },
        "id": "T1qCisWe6FSY",
        "outputId": "2a0fa684-41c6-4f5d-b916-8e88c2d06e9d"
      },
      "source": [
        "#plot the loss \n",
        "plt.plot(detect.history['loss'], label='train_loss')\n",
        "plt.plot(detect.history['val_loss'], label='val_loss')\n",
        "plt.legend()\n",
        "plt.show"
      ],
      "execution_count": null,
      "outputs": [
        {
          "output_type": "execute_result",
          "data": {
            "text/plain": [
              "<function matplotlib.pyplot.show>"
            ]
          },
          "metadata": {
            "tags": []
          },
          "execution_count": 25
        },
        {
          "output_type": "display_data",
          "data": {
            "image/png": "[encoded data removed]",
            "text/plain": [
              "<Figure size 432x288 with 1 Axes>"
            ]
          },
          "metadata": {
            "tags": [],
            "needs_background": "light"
          }
        }
      ]
    },
    {
      "cell_type": "code",
      "metadata": {
        "id": "LpV8yFdp6kAi"
      },
      "source": [
        "#save the model as h5 file\n",
        "\n",
        "from tensorflow.keras.models import load_model\n",
        "model.save('model_vgg19.h5')"
      ],
      "execution_count": null,
      "outputs": []
    },
    {
      "cell_type": "code",
      "metadata": {
        "id": "RIKO6DY28KVl"
      },
      "source": [
        "y_pred = model.predict(test_set)"
      ],
      "execution_count": null,
      "outputs": []
    },
    {
      "cell_type": "code",
      "metadata": {
        "colab": {
          "base_uri": "https://localhost:8080/"
        },
        "id": "8Ljh0HPa8a9W",
        "outputId": "bda7510f-507e-4d35-b197-9eda63c7e565"
      },
      "source": [
        "y_pred\n",
        "\n",
        "#the position array, n, refers to image file in the test folder\n",
        "#1st element in array refers to image in test\\parasite while 2nd element refers to test\\unineffected\n",
        "#combination those 2 elements shall produce value of 1"
      ],
      "execution_count": null,
      "outputs": [
        {
          "output_type": "execute_result",
          "data": {
            "text/plain": [
              "array([[6.30923659e-02, 9.36907649e-01],\n",
              "       [9.68129396e-01, 3.18706185e-02],\n",
              "       [1.33515805e-01, 8.66484225e-01],\n",
              "       [2.36064404e-01, 7.63935626e-01],\n",
              "       [5.92759736e-02, 9.40724015e-01],\n",
              "       [2.20056817e-01, 7.79943168e-01],\n",
              "       [9.68118668e-01, 3.18813361e-02],\n",
              "       [4.20648277e-01, 5.79351664e-01],\n",
              "       [6.36621535e-01, 3.63378465e-01],\n",
              "       [8.83691907e-01, 1.16308086e-01],\n",
              "       [5.22293925e-01, 4.77706075e-01],\n",
              "       [6.91503227e-01, 3.08496743e-01],\n",
              "       [9.65982795e-01, 3.40172425e-02],\n",
              "       [2.36947894e-01, 7.63052106e-01],\n",
              "       [2.13096127e-01, 7.86903918e-01],\n",
              "       [3.29761982e-01, 6.70238018e-01],\n",
              "       [4.92462486e-01, 5.07537484e-01],\n",
              "       [9.73516226e-01, 2.64837798e-02],\n",
              "       [5.39089799e-01, 4.60910171e-01],\n",
              "       [6.33848235e-02, 9.36615109e-01],\n",
              "       [1.67611301e-01, 8.32388699e-01],\n",
              "       [9.66428518e-01, 3.35715488e-02],\n",
              "       [1.32113442e-01, 8.67886543e-01],\n",
              "       [7.38455579e-02, 9.26154494e-01],\n",
              "       [1.53027773e-01, 8.46972227e-01],\n",
              "       [8.56804177e-02, 9.14319575e-01],\n",
              "       [8.92737806e-01, 1.07262217e-01],\n",
              "       [9.54968750e-01, 4.50312458e-02],\n",
              "       [2.04769269e-01, 7.95230687e-01],\n",
              "       [1.72122687e-01, 8.27877283e-01],\n",
              "       [2.46548429e-01, 7.53451586e-01],\n",
              "       [9.48838890e-01, 5.11611067e-02],\n",
              "       [9.21952307e-01, 7.80476853e-02],\n",
              "       [8.40959474e-02, 9.15904105e-01],\n",
              "       [3.31601262e-01, 6.68398738e-01],\n",
              "       [6.04643941e-01, 3.95356059e-01],\n",
              "       [1.11498371e-01, 8.88501644e-01],\n",
              "       [4.43808138e-01, 5.56191862e-01],\n",
              "       [9.88790035e-01, 1.12100113e-02],\n",
              "       [1.87274262e-01, 8.12725723e-01],\n",
              "       [9.76837099e-01, 2.31629033e-02],\n",
              "       [7.38598466e-01, 2.61401534e-01],\n",
              "       [6.38264656e-01, 3.61735374e-01],\n",
              "       [9.99926567e-01, 7.34358546e-05],\n",
              "       [3.97840798e-01, 6.02159202e-01],\n",
              "       [9.97326851e-01, 2.67316750e-03],\n",
              "       [5.48136950e-01, 4.51863080e-01],\n",
              "       [5.37437558e-01, 4.62562472e-01],\n",
              "       [7.81168103e-01, 2.18831882e-01],\n",
              "       [9.97071266e-01, 2.92868470e-03],\n",
              "       [9.71833944e-01, 2.81660501e-02],\n",
              "       [9.89548802e-01, 1.04511995e-02],\n",
              "       [1.21734224e-01, 8.78265798e-01],\n",
              "       [3.74063045e-01, 6.25936925e-01],\n",
              "       [2.80841500e-01, 7.19158530e-01],\n",
              "       [9.61158097e-01, 3.88418809e-02],\n",
              "       [9.97478068e-01, 2.52191117e-03],\n",
              "       [9.91466284e-01, 8.53366498e-03],\n",
              "       [1.30631447e-01, 8.69368494e-01],\n",
              "       [7.42537141e-01, 2.57462800e-01],\n",
              "       [8.95363927e-01, 1.04636073e-01],\n",
              "       [9.98724759e-01, 1.27517129e-03],\n",
              "       [8.86701345e-01, 1.13298647e-01],\n",
              "       [3.80521744e-01, 6.19478285e-01],\n",
              "       [8.08061242e-01, 1.91938743e-01],\n",
              "       [7.59557784e-01, 2.40442157e-01],\n",
              "       [8.94781590e-01, 1.05218388e-01],\n",
              "       [9.75307465e-01, 2.46924609e-02],\n",
              "       [8.46914291e-01, 1.53085709e-01],\n",
              "       [9.08805966e-01, 9.11940336e-02],\n",
              "       [9.32519913e-01, 6.74800798e-02],\n",
              "       [1.12415649e-01, 8.87584388e-01],\n",
              "       [5.63792773e-02, 9.43620741e-01],\n",
              "       [9.78390872e-01, 2.16090903e-02],\n",
              "       [7.35839307e-02, 9.26416099e-01],\n",
              "       [5.46216547e-01, 4.53783482e-01],\n",
              "       [9.71012175e-01, 2.89877933e-02],\n",
              "       [1.25443771e-01, 8.74556243e-01],\n",
              "       [1.37739822e-01, 8.62260222e-01],\n",
              "       [9.92870271e-01, 7.12968642e-03],\n",
              "       [9.92797673e-01, 7.20240641e-03],\n",
              "       [8.87848437e-02, 9.11215127e-01],\n",
              "       [2.00195372e-01, 7.99804688e-01],\n",
              "       [9.96362984e-01, 3.63699021e-03],\n",
              "       [5.65682828e-01, 4.34317201e-01],\n",
              "       [5.94037585e-02, 9.40596282e-01],\n",
              "       [9.65906143e-01, 3.40938121e-02],\n",
              "       [9.99590099e-01, 4.09965898e-04],\n",
              "       [9.21430349e-01, 7.85696507e-02],\n",
              "       [6.20842040e-01, 3.79157990e-01],\n",
              "       [4.30270642e-01, 5.69729388e-01],\n",
              "       [1.98597044e-01, 8.01402986e-01],\n",
              "       [3.44382748e-02, 9.65561688e-01],\n",
              "       [1.54690668e-01, 8.45309317e-01],\n",
              "       [4.77943793e-02, 9.52205658e-01],\n",
              "       [9.99636889e-01, 3.63089552e-04],\n",
              "       [3.67886245e-01, 6.32113695e-01],\n",
              "       [5.36811292e-01, 4.63188708e-01],\n",
              "       [9.80038226e-01, 1.99617315e-02],\n",
              "       [6.75283492e-01, 3.24716508e-01],\n",
              "       [9.98886883e-01, 1.11310394e-03],\n",
              "       [1.61034286e-01, 8.38965654e-01],\n",
              "       [3.77991349e-02, 9.62200880e-01],\n",
              "       [4.76231456e-01, 5.23768544e-01],\n",
              "       [1.10063516e-01, 8.89936507e-01],\n",
              "       [9.92899895e-01, 7.10013835e-03],\n",
              "       [9.59177971e-01, 4.08220328e-02],\n",
              "       [4.32107300e-01, 5.67892730e-01],\n",
              "       [2.37559482e-01, 7.62440562e-01],\n",
              "       [9.90559995e-01, 9.43995360e-03],\n",
              "       [7.15301216e-01, 2.84698784e-01],\n",
              "       [4.69039172e-01, 5.30960798e-01],\n",
              "       [6.90118432e-01, 3.09881628e-01],\n",
              "       [2.48917043e-01, 7.51082957e-01],\n",
              "       [7.58663893e-01, 2.41336137e-01],\n",
              "       [1.00844756e-01, 8.99155259e-01],\n",
              "       [2.04589680e-01, 7.95410335e-01],\n",
              "       [8.43268782e-02, 9.15673137e-01],\n",
              "       [5.47274351e-01, 4.52725649e-01],\n",
              "       [5.92858382e-02, 9.40714180e-01],\n",
              "       [1.18793488e-01, 8.81206453e-01],\n",
              "       [1.36326909e-01, 8.63673091e-01],\n",
              "       [4.34917837e-01, 5.65082192e-01],\n",
              "       [3.15530390e-01, 6.84469640e-01],\n",
              "       [8.53853166e-01, 1.46146819e-01],\n",
              "       [1.13256305e-01, 8.86743724e-01],\n",
              "       [9.74243164e-01, 2.57567894e-02],\n",
              "       [5.34442723e-01, 4.65557218e-01],\n",
              "       [5.20491123e-01, 4.79508817e-01],\n",
              "       [1.73844248e-01, 8.26155782e-01],\n",
              "       [1.13158934e-01, 8.86840999e-01],\n",
              "       [7.83011854e-01, 2.16988146e-01],\n",
              "       [3.96275461e-01, 6.03724539e-01],\n",
              "       [9.21667740e-02, 9.07833278e-01]], dtype=float32)"
            ]
          },
          "metadata": {
            "tags": []
          },
          "execution_count": 32
        }
      ]
    },
    {
      "cell_type": "code",
      "metadata": {
        "id": "WQ5hAHs27vI2"
      },
      "source": [
        "import numpy as np\n",
        "\n",
        "#get the index of the biggest element \n",
        "y_pred = np.argmax(y_pred, axis=1) "
      ],
      "execution_count": null,
      "outputs": []
    },
    {
      "cell_type": "code",
      "metadata": {
        "colab": {
          "base_uri": "https://localhost:8080/"
        },
        "id": "sFN2BTfS8WvF",
        "outputId": "7bf5ddb2-59e0-469b-f831-e1684fc2aede"
      },
      "source": [
        "y_pred"
      ],
      "execution_count": null,
      "outputs": [
        {
          "output_type": "execute_result",
          "data": {
            "text/plain": [
              "array([1, 0, 1, 1, 1, 1, 0, 1, 0, 0, 0, 0, 0, 1, 1, 1, 1, 0, 0, 1, 1, 0,\n",
              "       1, 1, 1, 1, 0, 0, 1, 1, 1, 0, 0, 1, 1, 0, 1, 1, 0, 1, 0, 0, 0, 0,\n",
              "       1, 0, 0, 0, 0, 0, 0, 0, 1, 1, 1, 0, 0, 0, 1, 0, 0, 0, 0, 1, 0, 0,\n",
              "       0, 0, 0, 0, 0, 1, 1, 0, 1, 0, 0, 1, 1, 0, 0, 1, 1, 0, 0, 1, 0, 0,\n",
              "       0, 0, 1, 1, 1, 1, 1, 0, 1, 0, 0, 0, 0, 1, 1, 1, 1, 0, 0, 1, 1, 0,\n",
              "       0, 1, 0, 1, 0, 1, 1, 1, 0, 1, 1, 1, 1, 1, 0, 1, 0, 0, 0, 1, 1, 0,\n",
              "       1, 1])"
            ]
          },
          "metadata": {
            "tags": []
          },
          "execution_count": 34
        }
      ]
    },
    {
      "cell_type": "markdown",
      "metadata": {
        "id": "DRZbsjkB8mGH"
      },
      "source": [
        "Test on some image"
      ]
    },
    {
      "cell_type": "code",
      "metadata": {
        "id": "tZizsww77yf2"
      },
      "source": [
        "from tensorflow.keras.models import load_model\n",
        "from tensorflow.keras.preprocessing import image"
      ],
      "execution_count": null,
      "outputs": []
    },
    {
      "cell_type": "code",
      "metadata": {
        "id": "zkIHEcSL8HDy"
      },
      "source": [
        "img = image.load_image('/content/drive/MyDrive/COLAB/Malaria detection/dataset/Test/C39P4thinF_original_IMG_20150622_105803_cell_93.png')"
      ],
      "execution_count": null,
      "outputs": []
    },
    {
      "cell_type": "code",
      "metadata": {
        "id": "HWs3N8849KjV"
      },
      "source": [
        "#convert image into array\n",
        "\n",
        "x = image.img_to_array(img)\n",
        "x"
      ],
      "execution_count": null,
      "outputs": []
    },
    {
      "cell_type": "code",
      "metadata": {
        "id": "TBLXlgog9b7f"
      },
      "source": [
        "#numpy array, (height,width,color channel)\n",
        "x.shape"
      ],
      "execution_count": null,
      "outputs": []
    },
    {
      "cell_type": "code",
      "metadata": {
        "id": "SzL49Uz3BT1K"
      },
      "source": [
        "#since we train our data in scale of 0-1 for pixel density, we have to rescale \n",
        "#our test image too\n",
        "x = x/255"
      ],
      "execution_count": null,
      "outputs": []
    },
    {
      "cell_type": "code",
      "metadata": {
        "id": "1gkPYMnlA3xM"
      },
      "source": [
        "#expand the array to be (batch_process, height, width, color channel)\n",
        "#this to prepare for CNN, 4d tensor\n",
        "x = np.expand_dims(x, axis=0)\n",
        "img_data = preprocess_input(x)\n",
        "img_data.shape"
      ],
      "execution_count": null,
      "outputs": []
    },
    {
      "cell_type": "code",
      "metadata": {
        "id": "WrgHw9SjBKHY"
      },
      "source": [
        "model.predict(img_data)"
      ],
      "execution_count": null,
      "outputs": []
    },
    {
      "cell_type": "code",
      "metadata": {
        "id": "Xk9LCDadGrCG"
      },
      "source": [
        "a = np.argmax(model.predict(img_data),axis=1)"
      ],
      "execution_count": null,
      "outputs": []
    },
    {
      "cell_type": "code",
      "metadata": {
        "id": "jn8jEZnOG39m"
      },
      "source": [
        "if(a==1):\n",
        "  print('Uninfected')\n",
        "else:\n",
        "  print('Infected')"
      ],
      "execution_count": null,
      "outputs": []
    },
    {
      "cell_type": "markdown",
      "metadata": {
        "id": "Hsso4MOK60D4"
      },
      "source": [
        "2. From Scratch"
      ]
    },
    {
      "cell_type": "code",
      "metadata": {
        "id": "O9tq5Oo1IJdE"
      },
      "source": [
        "from tensorflow.keras.layers import MaxPooling2D"
      ],
      "execution_count": null,
      "outputs": []
    },
    {
      "cell_type": "code",
      "metadata": {
        "id": "3JWG_yxxNcib",
        "colab": {
          "base_uri": "https://localhost:8080/",
          "height": 129
        },
        "outputId": "7e3fbb07-a67d-442c-adc6-885e52d45102"
      },
      "source": [
        "#create CNN from scatch\n",
        "model1 = Sequential()\n",
        "model1.add(Conv2D(filters=16, kernel_size=2, padding=\"same\", activation=\"relu\", input))"
      ],
      "execution_count": null,
      "outputs": [
        {
          "output_type": "error",
          "ename": "SyntaxError",
          "evalue": "ignored",
          "traceback": [
            "\u001b[0;36m  File \u001b[0;32m\"<ipython-input-20-4eb6f1dfd8f2>\"\u001b[0;36m, line \u001b[0;32m3\u001b[0m\n\u001b[0;31m    model1.add(Conv2D(filters=16, kernel_size=2, padding=\"same\", activation=\"relu\", input))\u001b[0m\n\u001b[0m                                                                                   ^\u001b[0m\n\u001b[0;31mSyntaxError\u001b[0m\u001b[0;31m:\u001b[0m positional argument follows keyword argument\n"
          ]
        }
      ]
    }
  ]
}