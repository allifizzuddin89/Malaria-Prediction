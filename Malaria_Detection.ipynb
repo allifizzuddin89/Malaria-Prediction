{
  "nbformat": 4,
  "nbformat_minor": 0,
  "metadata": {
    "colab": {
      "name": "Malaria Detection.ipynb",
      "provenance": [],
      "collapsed_sections": [],
      "mount_file_id": "1DuoJ93FZSuIcgyig84Ga9Y-FVTlmypdx",
      "authorship_tag": "ABX9TyNFBzXy1SEUV7tGqJ3h0+zo",
      "include_colab_link": true
    },
    "kernelspec": {
      "name": "python3",
      "display_name": "Python 3"
    }
  },
  "cells": [
    {
      "cell_type": "markdown",
      "metadata": {
        "id": "view-in-github",
        "colab_type": "text"
      },
      "source": [
        "<a href=\"https://colab.research.google.com/github/allifizzuddin89/Malaria-Prediction/blob/master/Malaria_Detection.ipynb\" target=\"_parent\"><img src=\"https://colab.research.google.com/assets/colab-badge.svg\" alt=\"Open In Colab\"/></a>"
      ]
    },
    {
      "cell_type": "code",
      "metadata": {
        "colab": {
          "base_uri": "https://localhost:8080/"
        },
        "id": "px1DIl91aTc2",
        "outputId": "3c004bd8-87ac-45bf-86c4-9bb2d3f6d194"
      },
      "source": [
        "from google.colab import drive\n",
        "drive.mount('/content/gdrive')"
      ],
      "execution_count": 3,
      "outputs": [
        {
          "output_type": "stream",
          "text": [
            "Go to this URL in a browser: https://accounts.google.com/o/oauth2/auth?client_id=947318989803-6bn6qk8qdgf4n4g3pfee6491hc0brc4i.apps.googleusercontent.com&redirect_uri=urn%3aietf%3awg%3aoauth%3a2.0%3aoob&scope=email%20https%3a%2f%2fwww.googleapis.com%2fauth%2fdocs.test%20https%3a%2f%2fwww.googleapis.com%2fauth%2fdrive%20https%3a%2f%2fwww.googleapis.com%2fauth%2fdrive.photos.readonly%20https%3a%2f%2fwww.googleapis.com%2fauth%2fpeopleapi.readonly%20https%3a%2f%2fwww.googleapis.com%2fauth%2fdrive.activity.readonly&response_type=code\n",
            "\n",
            "Enter your authorization code:\n",
            "4/1AY0e-g4qR1qBffwS7Tdt-NTYZRGrvCfQclbfJS2VeFbKZjkAZ_XBMgWZUaU\n",
            "Mounted at /content/gdrive\n"
          ],
          "name": "stdout"
        }
      ]
    },
    {
      "cell_type": "code",
      "metadata": {
        "colab": {
          "base_uri": "https://localhost:8080/"
        },
        "id": "-YnyBQSlaLHa",
        "outputId": "0d5325da-99c9-431a-f02f-1041fa14f247"
      },
      "source": [
        "!pwd"
      ],
      "execution_count": 6,
      "outputs": [
        {
          "output_type": "stream",
          "text": [
            "/content/drive/MyDrive/COLAB/Malaria detection\n"
          ],
          "name": "stdout"
        }
      ]
    },
    {
      "cell_type": "code",
      "metadata": {
        "id": "VTDcs9xn2g-d"
      },
      "source": [
        "import os\n",
        "os.chdir('/content/drive/MyDrive/COLAB/Malaria detection')"
      ],
      "execution_count": 5,
      "outputs": []
    },
    {
      "cell_type": "code",
      "metadata": {
        "colab": {
          "base_uri": "https://localhost:8080/"
        },
        "id": "YsT2h0NL2twK",
        "outputId": "d31a79d6-3d1e-412a-9739-f6294d533559"
      },
      "source": [
        "!unzip \"/content/drive/MyDrive/COLAB/Malaria detection/dataset.zip\""
      ],
      "execution_count": null,
      "outputs": [
        {
          "output_type": "stream",
          "text": [
            "Archive:  /content/drive/MyDrive/COLAB/Malaria detection/dataset.zip\n",
            "   creating: Test/\n",
            "   creating: Test/Parasite/\n",
            "  inflating: Test/Parasite/C39P4thinF_original_IMG_20150622_105554_cell_10.png  \n",
            "  inflating: Test/Parasite/C39P4thinF_original_IMG_20150622_105554_cell_11.png  \n",
            "  inflating: Test/Parasite/C39P4thinF_original_IMG_20150622_105554_cell_12.png  \n",
            "  inflating: Test/Parasite/C39P4thinF_original_IMG_20150622_105554_cell_13.png  \n",
            "  inflating: Test/Parasite/C39P4thinF_original_IMG_20150622_105554_cell_14.png  \n",
            "  inflating: Test/Parasite/C39P4thinF_original_IMG_20150622_105554_cell_15.png  \n",
            "  inflating: Test/Parasite/C39P4thinF_original_IMG_20150622_105554_cell_16.png  \n",
            "  inflating: Test/Parasite/C39P4thinF_original_IMG_20150622_105554_cell_17.png  \n",
            "  inflating: Test/Parasite/C39P4thinF_original_IMG_20150622_105554_cell_18.png  \n",
            "  inflating: Test/Parasite/C39P4thinF_original_IMG_20150622_105554_cell_19.png  \n",
            "  inflating: Test/Parasite/C39P4thinF_original_IMG_20150622_105554_cell_20.png  \n",
            "  inflating: Test/Parasite/C39P4thinF_original_IMG_20150622_105554_cell_21.png  \n",
            "  inflating: Test/Parasite/C39P4thinF_original_IMG_20150622_105554_cell_22.png  \n",
            "  inflating: Test/Parasite/C39P4thinF_original_IMG_20150622_105554_cell_23.png  \n",
            "  inflating: Test/Parasite/C39P4thinF_original_IMG_20150622_105554_cell_24.png  \n",
            "  inflating: Test/Parasite/C39P4thinF_original_IMG_20150622_105554_cell_25.png  \n",
            "  inflating: Test/Parasite/C39P4thinF_original_IMG_20150622_105554_cell_26.png  \n",
            "  inflating: Test/Parasite/C39P4thinF_original_IMG_20150622_105554_cell_9.png  \n",
            "  inflating: Test/Parasite/C39P4thinF_original_IMG_20150622_105803_cell_100.png  \n",
            "  inflating: Test/Parasite/C39P4thinF_original_IMG_20150622_105803_cell_101.png  \n",
            "  inflating: Test/Parasite/C39P4thinF_original_IMG_20150622_105803_cell_102.png  \n",
            "  inflating: Test/Parasite/C39P4thinF_original_IMG_20150622_105803_cell_103.png  \n",
            "  inflating: Test/Parasite/C39P4thinF_original_IMG_20150622_105803_cell_104.png  \n",
            "  inflating: Test/Parasite/C39P4thinF_original_IMG_20150622_105803_cell_105.png  \n",
            "  inflating: Test/Parasite/C39P4thinF_original_IMG_20150622_105803_cell_106.png  \n",
            "  inflating: Test/Parasite/C39P4thinF_original_IMG_20150622_105803_cell_107.png  \n",
            "  inflating: Test/Parasite/C39P4thinF_original_IMG_20150622_105803_cell_108.png  \n",
            "  inflating: Test/Parasite/C39P4thinF_original_IMG_20150622_105803_cell_109.png  \n",
            "  inflating: Test/Parasite/C39P4thinF_original_IMG_20150622_105803_cell_110.png  \n",
            "  inflating: Test/Parasite/C39P4thinF_original_IMG_20150622_105803_cell_111.png  \n",
            "  inflating: Test/Parasite/C39P4thinF_original_IMG_20150622_105803_cell_112.png  \n",
            "  inflating: Test/Parasite/C39P4thinF_original_IMG_20150622_105803_cell_78.png  \n",
            "  inflating: Test/Parasite/C39P4thinF_original_IMG_20150622_105803_cell_79.png  \n",
            "  inflating: Test/Parasite/C39P4thinF_original_IMG_20150622_105803_cell_80.png  \n",
            "  inflating: Test/Parasite/C39P4thinF_original_IMG_20150622_105803_cell_81.png  \n",
            "  inflating: Test/Parasite/C39P4thinF_original_IMG_20150622_105803_cell_82.png  \n",
            "  inflating: Test/Parasite/C39P4thinF_original_IMG_20150622_105803_cell_83.png  \n",
            "  inflating: Test/Parasite/C39P4thinF_original_IMG_20150622_105803_cell_84.png  \n",
            "  inflating: Test/Parasite/C39P4thinF_original_IMG_20150622_105803_cell_85.png  \n",
            "  inflating: Test/Parasite/C39P4thinF_original_IMG_20150622_105803_cell_86.png  \n",
            "  inflating: Test/Parasite/C39P4thinF_original_IMG_20150622_105803_cell_87.png  \n",
            "  inflating: Test/Parasite/C39P4thinF_original_IMG_20150622_105803_cell_88.png  \n",
            "  inflating: Test/Parasite/C39P4thinF_original_IMG_20150622_105803_cell_89.png  \n",
            "  inflating: Test/Parasite/C39P4thinF_original_IMG_20150622_105803_cell_90.png  \n",
            "  inflating: Test/Parasite/C39P4thinF_original_IMG_20150622_105803_cell_91.png  \n",
            "  inflating: Test/Parasite/C39P4thinF_original_IMG_20150622_105803_cell_92.png  \n",
            "  inflating: Test/Parasite/C39P4thinF_original_IMG_20150622_105803_cell_93.png  \n",
            "  inflating: Test/Parasite/C39P4thinF_original_IMG_20150622_105803_cell_94.png  \n",
            "  inflating: Test/Parasite/C39P4thinF_original_IMG_20150622_105803_cell_95.png  \n",
            "  inflating: Test/Parasite/C39P4thinF_original_IMG_20150622_105803_cell_96.png  \n",
            "  inflating: Test/Parasite/C39P4thinF_original_IMG_20150622_105803_cell_97.png  \n",
            "  inflating: Test/Parasite/C39P4thinF_original_IMG_20150622_105803_cell_98.png  \n",
            "  inflating: Test/Parasite/C39P4thinF_original_IMG_20150622_105803_cell_99.png  \n",
            "  inflating: Test/Parasite/C39P4thinF_original_IMG_20150622_110115_cell_104.png  \n",
            "  inflating: Test/Parasite/C39P4thinF_original_IMG_20150622_110115_cell_105.png  \n",
            "  inflating: Test/Parasite/C39P4thinF_original_IMG_20150622_110115_cell_106.png  \n",
            "  inflating: Test/Parasite/C39P4thinF_original_IMG_20150622_110115_cell_107.png  \n",
            "  inflating: Test/Parasite/C39P4thinF_original_IMG_20150622_110115_cell_108.png  \n",
            "  inflating: Test/Parasite/C39P4thinF_original_IMG_20150622_110115_cell_109.png  \n",
            "  inflating: Test/Parasite/C39P4thinF_original_IMG_20150622_110115_cell_110.png  \n",
            "  inflating: Test/Parasite/C39P4thinF_original_IMG_20150622_110115_cell_111.png  \n",
            "  inflating: Test/Parasite/C39P4thinF_original_IMG_20150622_110115_cell_112.png  \n",
            "  inflating: Test/Parasite/C39P4thinF_original_IMG_20150622_110115_cell_113.png  \n",
            "  inflating: Test/Parasite/C39P4thinF_original_IMG_20150622_110115_cell_114.png  \n",
            "  inflating: Test/Parasite/C39P4thinF_original_IMG_20150622_110115_cell_115.png  \n",
            "  inflating: Test/Parasite/C39P4thinF_original_IMG_20150622_110115_cell_116.png  \n",
            "  inflating: Test/Parasite/C39P4thinF_original_IMG_20150622_110115_cell_117.png  \n",
            "  inflating: Test/Parasite/C39P4thinF_original_IMG_20150622_110115_cell_118.png  \n",
            "  inflating: Test/Parasite/C39P4thinF_original_IMG_20150622_110115_cell_119.png  \n",
            "  inflating: Test/Parasite/C39P4thinF_original_IMG_20150622_110115_cell_120.png  \n",
            "  inflating: Test/Parasite/C39P4thinF_original_IMG_20150622_110115_cell_121.png  \n",
            "  inflating: Test/Parasite/C39P4thinF_original_IMG_20150622_110115_cell_122.png  \n",
            "  inflating: Test/Parasite/C39P4thinF_original_IMG_20150622_110115_cell_123.png  \n",
            "  inflating: Test/Parasite/C39P4thinF_original_IMG_20150622_110115_cell_124.png  \n",
            "  inflating: Test/Parasite/C39P4thinF_original_IMG_20150622_110115_cell_125.png  \n",
            "  inflating: Test/Parasite/C39P4thinF_original_IMG_20150622_110115_cell_126.png  \n",
            "  inflating: Test/Parasite/C39P4thinF_original_IMG_20150622_110115_cell_127.png  \n",
            "  inflating: Test/Parasite/C39P4thinF_original_IMG_20150622_110115_cell_128.png  \n",
            "  inflating: Test/Parasite/C39P4thinF_original_IMG_20150622_110115_cell_129.png  \n",
            "  inflating: Test/Parasite/C39P4thinF_original_IMG_20150622_110115_cell_130.png  \n",
            "  inflating: Test/Parasite/C39P4thinF_original_IMG_20150622_110115_cell_131.png  \n",
            "  inflating: Test/Parasite/C39P4thinF_original_IMG_20150622_110115_cell_132.png  \n",
            "  inflating: Test/Parasite/C39P4thinF_original_IMG_20150622_110115_cell_133.png  \n",
            "  inflating: Test/Parasite/C39P4thinF_original_IMG_20150622_110115_cell_134.png  \n",
            "  inflating: Test/Parasite/C39P4thinF_original_IMG_20150622_110115_cell_135.png  \n",
            "  inflating: Test/Parasite/C39P4thinF_original_IMG_20150622_110115_cell_136.png  \n",
            "  inflating: Test/Parasite/C39P4thinF_original_IMG_20150622_110115_cell_137.png  \n",
            "  inflating: Test/Parasite/C39P4thinF_original_IMG_20150622_110115_cell_138.png  \n",
            "  inflating: Test/Parasite/C39P4thinF_original_IMG_20150622_110352_cell_78.png  \n",
            "  inflating: Test/Parasite/C39P4thinF_original_IMG_20150622_110352_cell_79.png  \n",
            "  inflating: Test/Parasite/C39P4thinF_original_IMG_20150622_110352_cell_80.png  \n",
            "   creating: Test/Uninfected/\n",
            "  inflating: Test/Uninfected/2.png   \n",
            "  inflating: Test/Uninfected/C3thin_original_IMG_20150608_162922_cell_145.png  \n",
            "  inflating: Test/Uninfected/C3thin_original_IMG_20150608_162922_cell_191.png  \n",
            "  inflating: Test/Uninfected/C3thin_original_IMG_20150608_162922_cell_205.png  \n",
            "  inflating: Test/Uninfected/C3thin_original_IMG_20150608_162922_cell_211.png  \n",
            "  inflating: Test/Uninfected/C3thin_original_IMG_20150608_162922_cell_217.png  \n",
            "  inflating: Test/Uninfected/C3thin_original_IMG_20150608_163002_cell_13.png  \n",
            "  inflating: Test/Uninfected/C3thin_original_IMG_20150608_163002_cell_144.png  \n",
            "  inflating: Test/Uninfected/C3thin_original_IMG_20150608_163002_cell_146.png  \n",
            "  inflating: Test/Uninfected/C3thin_original_IMG_20150608_163002_cell_159.png  \n",
            "  inflating: Test/Uninfected/C3thin_original_IMG_20150608_163002_cell_195.png  \n",
            "  inflating: Test/Uninfected/C3thin_original_IMG_20150608_163002_cell_32.png  \n",
            "  inflating: Test/Uninfected/C3thin_original_IMG_20150608_163002_cell_34.png  \n",
            "  inflating: Test/Uninfected/C3thin_original_IMG_20150608_163002_cell_39.png  \n",
            "  inflating: Test/Uninfected/C3thin_original_IMG_20150608_163002_cell_63.png  \n",
            "  inflating: Test/Uninfected/C3thin_original_IMG_20150608_163002_cell_78.png  \n",
            "  inflating: Test/Uninfected/C3thin_original_IMG_20150608_163002_cell_81.png  \n",
            "  inflating: Test/Uninfected/C3thin_original_IMG_20150608_163002_cell_88.png  \n",
            "  inflating: Test/Uninfected/C3thin_original_IMG_20150608_163002_cell_93.png  \n",
            "  inflating: Test/Uninfected/C3thin_original_IMG_20150608_163002_cell_97.png  \n",
            "  inflating: Test/Uninfected/C3thin_original_IMG_20150608_163029_cell_1.png  \n",
            "  inflating: Test/Uninfected/C3thin_original_IMG_20150608_163029_cell_109.png  \n",
            "  inflating: Test/Uninfected/C3thin_original_IMG_20150608_163029_cell_121.png  \n",
            "  inflating: Test/Uninfected/C3thin_original_IMG_20150608_163029_cell_125.png  \n",
            "  inflating: Test/Uninfected/C3thin_original_IMG_20150608_163029_cell_156.png  \n",
            "  inflating: Test/Uninfected/C3thin_original_IMG_20150608_163029_cell_166.png  \n",
            "  inflating: Test/Uninfected/C3thin_original_IMG_20150608_163029_cell_186.png  \n",
            "  inflating: Test/Uninfected/C3thin_original_IMG_20150608_163029_cell_202.png  \n",
            "  inflating: Test/Uninfected/C3thin_original_IMG_20150608_163029_cell_220.png  \n",
            "  inflating: Test/Uninfected/C3thin_original_IMG_20150608_163029_cell_44.png  \n",
            "  inflating: Test/Uninfected/C3thin_original_IMG_20150608_163029_cell_52.png  \n",
            "  inflating: Test/Uninfected/C3thin_original_IMG_20150608_163029_cell_57.png  \n",
            "  inflating: Test/Uninfected/C3thin_original_IMG_20150608_163029_cell_80.png  \n",
            "  inflating: Test/Uninfected/C3thin_original_IMG_20150608_163029_cell_83.png  \n",
            "  inflating: Test/Uninfected/C3thin_original_IMG_20150608_163047_cell_103.png  \n",
            "  inflating: Test/Uninfected/C3thin_original_IMG_20150608_163047_cell_145.png  \n",
            "  inflating: Test/Uninfected/C3thin_original_IMG_20150608_163047_cell_147.png  \n",
            "  inflating: Test/Uninfected/C3thin_original_IMG_20150608_163047_cell_161.png  \n",
            "  inflating: Test/Uninfected/C3thin_original_IMG_20150608_163047_cell_168.png  \n",
            "  inflating: Test/Uninfected/C3thin_original_IMG_20150608_163047_cell_183.png  \n",
            "  inflating: Test/Uninfected/C3thin_original_IMG_20150608_163047_cell_22.png  \n",
            "  inflating: Test/Uninfected/C3thin_original_IMG_20150608_163047_cell_26.png  \n",
            "  inflating: Test/Uninfected/C3thin_original_IMG_20150608_163047_cell_36.png  \n",
            "   creating: Train/\n",
            "   creating: Train/Parasite/\n",
            "  inflating: Train/Parasite/C133P94ThinF_IMG_20151004_155721_cell_111.png  \n",
            "  inflating: Train/Parasite/C133P94ThinF_IMG_20151004_155721_cell_112.png  \n",
            "  inflating: Train/Parasite/C133P94ThinF_IMG_20151004_155721_cell_113.png  \n",
            "  inflating: Train/Parasite/C133P94ThinF_IMG_20151004_155721_cell_114.png  \n",
            "  inflating: Train/Parasite/C133P94ThinF_IMG_20151004_155721_cell_115.png  \n",
            "  inflating: Train/Parasite/C133P94ThinF_IMG_20151004_155721_cell_116.png  \n",
            "  inflating: Train/Parasite/C133P94ThinF_IMG_20151004_155721_cell_117.png  \n",
            "  inflating: Train/Parasite/C133P94ThinF_IMG_20151004_155721_cell_118.png  \n",
            "  inflating: Train/Parasite/C133P94ThinF_IMG_20151004_155721_cell_119.png  \n",
            "  inflating: Train/Parasite/C133P94ThinF_IMG_20151004_155721_cell_120.png  \n",
            "  inflating: Train/Parasite/C133P94ThinF_IMG_20151004_155721_cell_121.png  \n",
            "  inflating: Train/Parasite/C133P94ThinF_IMG_20151004_155721_cell_122.png  \n",
            "  inflating: Train/Parasite/C133P94ThinF_IMG_20151004_155721_cell_123.png  \n",
            "  inflating: Train/Parasite/C133P94ThinF_IMG_20151004_155721_cell_124.png  \n",
            "  inflating: Train/Parasite/C133P94ThinF_IMG_20151004_155912_cell_1.png  \n",
            "  inflating: Train/Parasite/C133P94ThinF_IMG_20151004_155912_cell_10.png  \n",
            "  inflating: Train/Parasite/C133P94ThinF_IMG_20151004_155912_cell_11.png  \n",
            "  inflating: Train/Parasite/C133P94ThinF_IMG_20151004_155912_cell_12.png  \n",
            "  inflating: Train/Parasite/C133P94ThinF_IMG_20151004_155912_cell_13.png  \n",
            "  inflating: Train/Parasite/C133P94ThinF_IMG_20151004_155912_cell_14.png  \n",
            "  inflating: Train/Parasite/C133P94ThinF_IMG_20151004_155912_cell_15.png  \n",
            "  inflating: Train/Parasite/C133P94ThinF_IMG_20151004_155912_cell_16.png  \n",
            "  inflating: Train/Parasite/C133P94ThinF_IMG_20151004_155912_cell_17.png  \n",
            "  inflating: Train/Parasite/C133P94ThinF_IMG_20151004_155912_cell_18.png  \n",
            "  inflating: Train/Parasite/C133P94ThinF_IMG_20151004_155912_cell_19.png  \n",
            "  inflating: Train/Parasite/C133P94ThinF_IMG_20151004_155912_cell_2.png  \n",
            "  inflating: Train/Parasite/C133P94ThinF_IMG_20151004_155912_cell_20.png  \n",
            "  inflating: Train/Parasite/C133P94ThinF_IMG_20151004_155912_cell_3.png  \n",
            "  inflating: Train/Parasite/C133P94ThinF_IMG_20151004_155912_cell_4.png  \n",
            "  inflating: Train/Parasite/C133P94ThinF_IMG_20151004_155912_cell_5.png  \n",
            "  inflating: Train/Parasite/C133P94ThinF_IMG_20151004_155912_cell_6.png  \n",
            "  inflating: Train/Parasite/C133P94ThinF_IMG_20151004_155912_cell_7.png  \n",
            "  inflating: Train/Parasite/C133P94ThinF_IMG_20151004_155912_cell_8.png  \n",
            "  inflating: Train/Parasite/C133P94ThinF_IMG_20151004_155912_cell_9.png  \n",
            "  inflating: Train/Parasite/C134P95ThinF_IMG_20151005_121048_cell_112.png  \n",
            "  inflating: Train/Parasite/C134P95ThinF_IMG_20151005_121048_cell_113.png  \n",
            "  inflating: Train/Parasite/C134P95ThinF_IMG_20151005_121343_cell_122.png  \n",
            "  inflating: Train/Parasite/C134P95ThinF_IMG_20151005_121343_cell_123.png  \n",
            "  inflating: Train/Parasite/C134P95ThinF_IMG_20151005_121343_cell_124.png  \n",
            "  inflating: Train/Parasite/C134P95ThinF_IMG_20151005_121425_cell_127.png  \n",
            "  inflating: Train/Parasite/C134P95ThinF_IMG_20151005_121554_cell_121.png  \n",
            "  inflating: Train/Parasite/C134P95ThinF_IMG_20151005_121554_cell_122.png  \n",
            "  inflating: Train/Parasite/C134P95ThinF_IMG_20151005_121656_cell_104.png  \n",
            "  inflating: Train/Parasite/C134P95ThinF_IMG_20151005_121656_cell_105.png  \n",
            "  inflating: Train/Parasite/C134P95ThinF_IMG_20151005_121834_cell_120.png  \n",
            "  inflating: Train/Parasite/C134P95ThinF_IMG_20151005_121834_cell_121.png  \n",
            "  inflating: Train/Parasite/C134P95ThinF_IMG_20151005_121834_cell_122.png  \n",
            "  inflating: Train/Parasite/C134P95ThinF_IMG_20151005_121834_cell_123.png  \n",
            "  inflating: Train/Parasite/C134P95ThinF_IMG_20151005_121952_cell_120.png  \n",
            "  inflating: Train/Parasite/C134P95ThinF_IMG_20151005_121952_cell_121.png  \n",
            "  inflating: Train/Parasite/C134P95ThinF_IMG_20151005_121952_cell_122.png  \n",
            "  inflating: Train/Parasite/C134P95ThinF_IMG_20151005_121952_cell_123.png  \n",
            "  inflating: Train/Parasite/C134P95ThinF_IMG_20151005_122331_cell_102.png  \n",
            "  inflating: Train/Parasite/C134P95ThinF_IMG_20151005_122331_cell_103.png  \n",
            "  inflating: Train/Parasite/C134P95ThinF_IMG_20151005_122449_cell_133.png  \n",
            "  inflating: Train/Parasite/C134P95ThinF_IMG_20151005_122449_cell_134.png  \n",
            "  inflating: Train/Parasite/C134P95ThinF_IMG_20151005_122552_cell_120.png  \n",
            "  inflating: Train/Parasite/C134P95ThinF_IMG_20151005_122552_cell_121.png  \n",
            "  inflating: Train/Parasite/C134P95ThinF_IMG_20151005_122552_cell_122.png  \n",
            "  inflating: Train/Parasite/C134P95ThinF_IMG_20151005_122552_cell_123.png  \n",
            "  inflating: Train/Parasite/C134P95ThinF_IMG_20151005_122552_cell_124.png  \n",
            "  inflating: Train/Parasite/C189P150ThinF_IMG_20151203_142113_cell_86.png  \n",
            "  inflating: Train/Parasite/C189P150ThinF_IMG_20151203_142113_cell_87.png  \n",
            "  inflating: Train/Parasite/C189P150ThinF_IMG_20151203_142113_cell_88.png  \n",
            "  inflating: Train/Parasite/C189P150ThinF_IMG_20151203_142113_cell_89.png  \n",
            "  inflating: Train/Parasite/C189P150ThinF_IMG_20151203_142113_cell_90.png  \n",
            "  inflating: Train/Parasite/C189P150ThinF_IMG_20151203_142113_cell_91.png  \n",
            "  inflating: Train/Parasite/C189P150ThinF_IMG_20151203_142113_cell_92.png  \n",
            "  inflating: Train/Parasite/C189P150ThinF_IMG_20151203_142224_cell_79.png  \n",
            "  inflating: Train/Parasite/C189P150ThinF_IMG_20151203_142224_cell_80.png  \n",
            "  inflating: Train/Parasite/C189P150ThinF_IMG_20151203_142224_cell_81.png  \n",
            "  inflating: Train/Parasite/C189P150ThinF_IMG_20151203_142224_cell_82.png  \n",
            "  inflating: Train/Parasite/C189P150ThinF_IMG_20151203_142224_cell_83.png  \n",
            "  inflating: Train/Parasite/C189P150ThinF_IMG_20151203_142224_cell_84.png  \n",
            "  inflating: Train/Parasite/C189P150ThinF_IMG_20151203_142224_cell_85.png  \n",
            "  inflating: Train/Parasite/C189P150ThinF_IMG_20151203_142224_cell_86.png  \n",
            "  inflating: Train/Parasite/C189P150ThinF_IMG_20151203_142224_cell_87.png  \n",
            "  inflating: Train/Parasite/C189P150ThinF_IMG_20151203_142224_cell_88.png  \n",
            "  inflating: Train/Parasite/C189P150ThinF_IMG_20151203_142224_cell_89.png  \n",
            "  inflating: Train/Parasite/C189P150ThinF_IMG_20151203_142224_cell_90.png  \n",
            "  inflating: Train/Parasite/C189P150ThinF_IMG_20151203_142224_cell_91.png  \n",
            "  inflating: Train/Parasite/C189P150ThinF_IMG_20151203_142224_cell_92.png  \n",
            "  inflating: Train/Parasite/C189P150ThinF_IMG_20151203_142224_cell_93.png  \n",
            "  inflating: Train/Parasite/C189P150ThinF_IMG_20151203_142224_cell_94.png  \n",
            "  inflating: Train/Parasite/C189P150ThinF_IMG_20151203_142224_cell_95.png  \n",
            "  inflating: Train/Parasite/C189P150ThinF_IMG_20151203_142224_cell_96.png  \n",
            "  inflating: Train/Parasite/C189P150ThinF_IMG_20151203_142224_cell_97.png  \n",
            "  inflating: Train/Parasite/C189P150ThinF_IMG_20151203_142224_cell_98.png  \n",
            "  inflating: Train/Parasite/C33P1thinF_IMG_20150619_114756a_cell_179.png  \n",
            "  inflating: Train/Parasite/C33P1thinF_IMG_20150619_114756a_cell_180.png  \n",
            "  inflating: Train/Parasite/C33P1thinF_IMG_20150619_114756a_cell_181.png  \n",
            "  inflating: Train/Parasite/C33P1thinF_IMG_20150619_114756a_cell_182.png  \n",
            "  inflating: Train/Parasite/C33P1thinF_IMG_20150619_115740a_cell_161.png  \n",
            "  inflating: Train/Parasite/C33P1thinF_IMG_20150619_115740a_cell_162.png  \n",
            "  inflating: Train/Parasite/C33P1thinF_IMG_20150619_115740a_cell_163.png  \n",
            "  inflating: Train/Parasite/C33P1thinF_IMG_20150619_115808a_cell_205.png  \n",
            "  inflating: Train/Parasite/C33P1thinF_IMG_20150619_115808a_cell_206.png  \n",
            "  inflating: Train/Parasite/C33P1thinF_IMG_20150619_120645a_cell_215.png  \n",
            "  inflating: Train/Parasite/C33P1thinF_IMG_20150619_120645a_cell_216.png  \n",
            "  inflating: Train/Parasite/C33P1thinF_IMG_20150619_120645a_cell_217.png  \n",
            "  inflating: Train/Parasite/C33P1thinF_IMG_20150619_120742a_cell_210.png  \n",
            "  inflating: Train/Parasite/C33P1thinF_IMG_20150619_120804a_cell_224.png  \n",
            "  inflating: Train/Parasite/C33P1thinF_IMG_20150619_120838a_cell_222.png  \n",
            "  inflating: Train/Parasite/C33P1thinF_IMG_20150619_121102a_cell_193.png  \n",
            "  inflating: Train/Parasite/C33P1thinF_IMG_20150619_121229a_cell_177.png  \n",
            "  inflating: Train/Parasite/C33P1thinF_IMG_20150619_121229a_cell_178.png  \n",
            "  inflating: Train/Parasite/C33P1thinF_IMG_20150619_121229a_cell_179.png  \n",
            "  inflating: Train/Parasite/C33P1thinF_IMG_20150619_121300a_cell_156.png  \n",
            "  inflating: Train/Parasite/C33P1thinF_IMG_20150619_121411a_cell_189.png  \n",
            "  inflating: Train/Parasite/C33P1thinF_IMG_20150619_121411a_cell_190.png  \n",
            "  inflating: Train/Parasite/C33P1thinF_IMG_20150619_121435a_cell_173.png  \n",
            "  inflating: Train/Parasite/C33P1thinF_IMG_20150619_121503a_cell_158.png  \n",
            "  inflating: Train/Parasite/C33P1thinF_IMG_20150619_121503a_cell_159.png  \n",
            "  inflating: Train/Parasite/C37BP2_thinF_IMG_20150620_131423a_cell_92.png  \n",
            "  inflating: Train/Parasite/C37BP2_thinF_IMG_20150620_131423a_cell_93.png  \n",
            "  inflating: Train/Parasite/C37BP2_thinF_IMG_20150620_131423a_cell_94.png  \n",
            "  inflating: Train/Parasite/C37BP2_thinF_IMG_20150620_132440a_cell_108.png  \n",
            "  inflating: Train/Parasite/C37BP2_thinF_IMG_20150620_132847a_cell_76.png  \n",
            "  inflating: Train/Parasite/C37BP2_thinF_IMG_20150620_132847a_cell_77.png  \n",
            "  inflating: Train/Parasite/C37BP2_thinF_IMG_20150620_133001a_cell_76.png  \n",
            "  inflating: Train/Parasite/C37BP2_thinF_IMG_20150620_133001a_cell_77.png  \n",
            "  inflating: Train/Parasite/C37BP2_thinF_IMG_20150620_133111a_cell_86.png  \n",
            "  inflating: Train/Parasite/C37BP2_thinF_IMG_20150620_133111a_cell_87.png  \n",
            "  inflating: Train/Parasite/C37BP2_thinF_IMG_20150620_133111a_cell_88.png  \n",
            "  inflating: Train/Parasite/C37BP2_thinF_IMG_20150620_133205a_cell_87.png  \n",
            "  inflating: Train/Parasite/C37BP2_thinF_IMG_20150620_133205a_cell_88.png  \n",
            "  inflating: Train/Parasite/C37BP2_thinF_IMG_20150620_133238a_cell_97.png  \n",
            "  inflating: Train/Parasite/C38P3thinF_original_IMG_20150621_112043_cell_202.png  \n",
            "  inflating: Train/Parasite/C38P3thinF_original_IMG_20150621_112043_cell_203.png  \n",
            "  inflating: Train/Parasite/C38P3thinF_original_IMG_20150621_112116_cell_204.png  \n",
            "  inflating: Train/Parasite/C38P3thinF_original_IMG_20150621_112116_cell_205.png  \n",
            "  inflating: Train/Parasite/C38P3thinF_original_IMG_20150621_112138_cell_183.png  \n",
            "  inflating: Train/Parasite/C38P3thinF_original_IMG_20150621_112246_cell_236.png  \n",
            "  inflating: Train/Parasite/C39P4thinF_original_IMG_20150622_105102_cell_100.png  \n",
            "  inflating: Train/Parasite/C39P4thinF_original_IMG_20150622_105102_cell_101.png  \n",
            "  inflating: Train/Parasite/C39P4thinF_original_IMG_20150622_105102_cell_102.png  \n",
            "  inflating: Train/Parasite/C39P4thinF_original_IMG_20150622_105102_cell_103.png  \n",
            "  inflating: Train/Parasite/C39P4thinF_original_IMG_20150622_105102_cell_104.png  \n",
            "  inflating: Train/Parasite/C39P4thinF_original_IMG_20150622_105102_cell_105.png  \n",
            "  inflating: Train/Parasite/C39P4thinF_original_IMG_20150622_105102_cell_106.png  \n",
            "  inflating: Train/Parasite/C39P4thinF_original_IMG_20150622_105102_cell_107.png  \n",
            "  inflating: Train/Parasite/C39P4thinF_original_IMG_20150622_105102_cell_79.png  \n",
            "  inflating: Train/Parasite/C39P4thinF_original_IMG_20150622_105102_cell_80.png  \n",
            "  inflating: Train/Parasite/C39P4thinF_original_IMG_20150622_105102_cell_81.png  \n",
            "  inflating: Train/Parasite/C39P4thinF_original_IMG_20150622_105102_cell_82.png  \n",
            "  inflating: Train/Parasite/C39P4thinF_original_IMG_20150622_105102_cell_83.png  \n",
            "  inflating: Train/Parasite/C39P4thinF_original_IMG_20150622_105102_cell_84.png  \n",
            "  inflating: Train/Parasite/C39P4thinF_original_IMG_20150622_105102_cell_85.png  \n",
            "  inflating: Train/Parasite/C39P4thinF_original_IMG_20150622_105102_cell_86.png  \n",
            "  inflating: Train/Parasite/C39P4thinF_original_IMG_20150622_105102_cell_87.png  \n",
            "  inflating: Train/Parasite/C39P4thinF_original_IMG_20150622_105102_cell_88.png  \n",
            "  inflating: Train/Parasite/C39P4thinF_original_IMG_20150622_105102_cell_89.png  \n",
            "  inflating: Train/Parasite/C39P4thinF_original_IMG_20150622_105102_cell_90.png  \n",
            "  inflating: Train/Parasite/C39P4thinF_original_IMG_20150622_105102_cell_91.png  \n",
            "  inflating: Train/Parasite/C39P4thinF_original_IMG_20150622_105102_cell_92.png  \n",
            "  inflating: Train/Parasite/C39P4thinF_original_IMG_20150622_105102_cell_93.png  \n",
            "  inflating: Train/Parasite/C39P4thinF_original_IMG_20150622_105102_cell_94.png  \n",
            "  inflating: Train/Parasite/C39P4thinF_original_IMG_20150622_105102_cell_95.png  \n",
            "  inflating: Train/Parasite/C39P4thinF_original_IMG_20150622_105102_cell_96.png  \n",
            "  inflating: Train/Parasite/C39P4thinF_original_IMG_20150622_105102_cell_97.png  \n",
            "  inflating: Train/Parasite/C39P4thinF_original_IMG_20150622_105102_cell_98.png  \n",
            "  inflating: Train/Parasite/C39P4thinF_original_IMG_20150622_105102_cell_99.png  \n",
            "  inflating: Train/Parasite/C39P4thinF_original_IMG_20150622_105253_cell_100.png  \n",
            "  inflating: Train/Parasite/C39P4thinF_original_IMG_20150622_105253_cell_101.png  \n",
            "  inflating: Train/Parasite/C39P4thinF_original_IMG_20150622_105253_cell_102.png  \n",
            "  inflating: Train/Parasite/C39P4thinF_original_IMG_20150622_105253_cell_103.png  \n",
            "  inflating: Train/Parasite/C39P4thinF_original_IMG_20150622_105253_cell_104.png  \n",
            "  inflating: Train/Parasite/C39P4thinF_original_IMG_20150622_105253_cell_105.png  \n",
            "  inflating: Train/Parasite/C39P4thinF_original_IMG_20150622_105253_cell_106.png  \n",
            "  inflating: Train/Parasite/C39P4thinF_original_IMG_20150622_105253_cell_107.png  \n",
            "  inflating: Train/Parasite/C39P4thinF_original_IMG_20150622_105253_cell_108.png  \n",
            "  inflating: Train/Parasite/C39P4thinF_original_IMG_20150622_105253_cell_109.png  \n",
            "  inflating: Train/Parasite/C39P4thinF_original_IMG_20150622_105253_cell_110.png  \n",
            "  inflating: Train/Parasite/C39P4thinF_original_IMG_20150622_105253_cell_111.png  \n",
            "  inflating: Train/Parasite/C39P4thinF_original_IMG_20150622_105253_cell_90.png  \n",
            "  inflating: Train/Parasite/C39P4thinF_original_IMG_20150622_105253_cell_91.png  \n",
            "  inflating: Train/Parasite/C39P4thinF_original_IMG_20150622_105253_cell_92.png  \n",
            "  inflating: Train/Parasite/C39P4thinF_original_IMG_20150622_105253_cell_93.png  \n",
            "  inflating: Train/Parasite/C39P4thinF_original_IMG_20150622_105253_cell_94.png  \n",
            "  inflating: Train/Parasite/C39P4thinF_original_IMG_20150622_105253_cell_95.png  \n",
            "  inflating: Train/Parasite/C39P4thinF_original_IMG_20150622_105253_cell_96.png  \n",
            "  inflating: Train/Parasite/C39P4thinF_original_IMG_20150622_105253_cell_97.png  \n",
            "  inflating: Train/Parasite/C39P4thinF_original_IMG_20150622_105253_cell_98.png  \n",
            "  inflating: Train/Parasite/C39P4thinF_original_IMG_20150622_105253_cell_99.png  \n",
            "  inflating: Train/Parasite/C39P4thinF_original_IMG_20150622_105335_cell_1.png  \n",
            "  inflating: Train/Parasite/C39P4thinF_original_IMG_20150622_105335_cell_10.png  \n",
            "  inflating: Train/Parasite/C39P4thinF_original_IMG_20150622_105335_cell_11.png  \n",
            "  inflating: Train/Parasite/C39P4thinF_original_IMG_20150622_105335_cell_12.png  \n",
            "  inflating: Train/Parasite/C39P4thinF_original_IMG_20150622_105335_cell_13.png  \n",
            "  inflating: Train/Parasite/C39P4thinF_original_IMG_20150622_105335_cell_14.png  \n",
            "  inflating: Train/Parasite/C39P4thinF_original_IMG_20150622_105335_cell_15.png  \n",
            "  inflating: Train/Parasite/C39P4thinF_original_IMG_20150622_105335_cell_16.png  \n",
            "  inflating: Train/Parasite/C39P4thinF_original_IMG_20150622_105335_cell_17.png  \n",
            "  inflating: Train/Parasite/C39P4thinF_original_IMG_20150622_105335_cell_18.png  \n",
            "  inflating: Train/Parasite/C39P4thinF_original_IMG_20150622_105335_cell_19.png  \n",
            "  inflating: Train/Parasite/C39P4thinF_original_IMG_20150622_105335_cell_2.png  \n",
            "  inflating: Train/Parasite/C39P4thinF_original_IMG_20150622_105335_cell_20.png  \n",
            "  inflating: Train/Parasite/C39P4thinF_original_IMG_20150622_105335_cell_21.png  \n",
            "  inflating: Train/Parasite/C39P4thinF_original_IMG_20150622_105335_cell_22.png  \n",
            "  inflating: Train/Parasite/C39P4thinF_original_IMG_20150622_105335_cell_23.png  \n",
            "  inflating: Train/Parasite/C39P4thinF_original_IMG_20150622_105335_cell_24.png  \n",
            "  inflating: Train/Parasite/C39P4thinF_original_IMG_20150622_105335_cell_25.png  \n",
            "  inflating: Train/Parasite/C39P4thinF_original_IMG_20150622_105335_cell_26.png  \n",
            "  inflating: Train/Parasite/C39P4thinF_original_IMG_20150622_105335_cell_27.png  \n",
            "  inflating: Train/Parasite/C39P4thinF_original_IMG_20150622_105335_cell_28.png  \n",
            "  inflating: Train/Parasite/C39P4thinF_original_IMG_20150622_105335_cell_29.png  \n",
            "  inflating: Train/Parasite/C39P4thinF_original_IMG_20150622_105335_cell_3.png  \n",
            "  inflating: Train/Parasite/C39P4thinF_original_IMG_20150622_105335_cell_30.png  \n",
            "  inflating: Train/Parasite/C39P4thinF_original_IMG_20150622_105335_cell_31.png  \n",
            "  inflating: Train/Parasite/C39P4thinF_original_IMG_20150622_105335_cell_32.png  \n",
            "  inflating: Train/Parasite/C39P4thinF_original_IMG_20150622_105335_cell_4.png  \n",
            "  inflating: Train/Parasite/C39P4thinF_original_IMG_20150622_105335_cell_5.png  \n",
            "  inflating: Train/Parasite/C39P4thinF_original_IMG_20150622_105335_cell_6.png  \n",
            "  inflating: Train/Parasite/C39P4thinF_original_IMG_20150622_105335_cell_7.png  \n",
            "  inflating: Train/Parasite/C39P4thinF_original_IMG_20150622_105335_cell_8.png  \n",
            "  inflating: Train/Parasite/C39P4thinF_original_IMG_20150622_105335_cell_9.png  \n",
            "  inflating: Train/Parasite/C39P4thinF_original_IMG_20150622_105554_cell_1.png  \n",
            "  inflating: Train/Parasite/C39P4thinF_original_IMG_20150622_105554_cell_2.png  \n",
            "  inflating: Train/Parasite/C39P4thinF_original_IMG_20150622_105554_cell_3.png  \n",
            "  inflating: Train/Parasite/C39P4thinF_original_IMG_20150622_105554_cell_4.png  \n",
            "   creating: Train/Uninfected/\n",
            "  inflating: Train/Uninfected/C1_thinF_IMG_20150604_104722_cell_115.png  \n",
            "  inflating: Train/Uninfected/C1_thinF_IMG_20150604_104722_cell_123.png  \n",
            "  inflating: Train/Uninfected/C1_thinF_IMG_20150604_104722_cell_143.png  \n",
            "  inflating: Train/Uninfected/C1_thinF_IMG_20150604_104722_cell_15.png  \n",
            "  inflating: Train/Uninfected/C1_thinF_IMG_20150604_104722_cell_164.png  \n",
            "  inflating: Train/Uninfected/C1_thinF_IMG_20150604_104722_cell_191.png  \n",
            "  inflating: Train/Uninfected/C1_thinF_IMG_20150604_104722_cell_211.png  \n",
            "  inflating: Train/Uninfected/C1_thinF_IMG_20150604_104722_cell_216.png  \n",
            "  inflating: Train/Uninfected/C1_thinF_IMG_20150604_104722_cell_231.png  \n",
            "  inflating: Train/Uninfected/C1_thinF_IMG_20150604_104722_cell_242.png  \n",
            "  inflating: Train/Uninfected/C1_thinF_IMG_20150604_104722_cell_248.png  \n",
            "  inflating: Train/Uninfected/C1_thinF_IMG_20150604_104722_cell_60.png  \n",
            "  inflating: Train/Uninfected/C1_thinF_IMG_20150604_104722_cell_66.png  \n",
            "  inflating: Train/Uninfected/C1_thinF_IMG_20150604_104722_cell_73.png  \n",
            "  inflating: Train/Uninfected/C1_thinF_IMG_20150604_104722_cell_79.png  \n",
            "  inflating: Train/Uninfected/C1_thinF_IMG_20150604_104722_cell_81.png  \n",
            "  inflating: Train/Uninfected/C1_thinF_IMG_20150604_104722_cell_9.png  \n",
            "  inflating: Train/Uninfected/C1_thinF_IMG_20150604_104919_cell_123.png  \n",
            "  inflating: Train/Uninfected/C1_thinF_IMG_20150604_104919_cell_132.png  \n",
            "  inflating: Train/Uninfected/C1_thinF_IMG_20150604_104919_cell_134.png  \n",
            "  inflating: Train/Uninfected/C1_thinF_IMG_20150604_104919_cell_157.png  \n",
            "  inflating: Train/Uninfected/C1_thinF_IMG_20150604_104919_cell_163.png  \n",
            "  inflating: Train/Uninfected/C1_thinF_IMG_20150604_104919_cell_164.png  \n",
            "  inflating: Train/Uninfected/C1_thinF_IMG_20150604_104919_cell_173.png  \n",
            "  inflating: Train/Uninfected/C1_thinF_IMG_20150604_104919_cell_178.png  \n",
            "  inflating: Train/Uninfected/C1_thinF_IMG_20150604_104919_cell_183.png  \n",
            "  inflating: Train/Uninfected/C1_thinF_IMG_20150604_104919_cell_189.png  \n",
            "  inflating: Train/Uninfected/C1_thinF_IMG_20150604_104919_cell_199.png  \n",
            "  inflating: Train/Uninfected/C1_thinF_IMG_20150604_104919_cell_224.png  \n",
            "  inflating: Train/Uninfected/C1_thinF_IMG_20150604_104919_cell_240.png  \n",
            "  inflating: Train/Uninfected/C1_thinF_IMG_20150604_104919_cell_31.png  \n",
            "  inflating: Train/Uninfected/C1_thinF_IMG_20150604_104919_cell_82.png  \n",
            "  inflating: Train/Uninfected/C1_thinF_IMG_20150604_104919_cell_84.png  \n",
            "  inflating: Train/Uninfected/C1_thinF_IMG_20150604_104919_cell_86.png  \n",
            "  inflating: Train/Uninfected/C1_thinF_IMG_20150604_104919_cell_96.png  \n",
            "  inflating: Train/Uninfected/C1_thinF_IMG_20150604_104942_cell_102.png  \n",
            "  inflating: Train/Uninfected/C1_thinF_IMG_20150604_104942_cell_11.png  \n",
            "  inflating: Train/Uninfected/C1_thinF_IMG_20150604_104942_cell_139.png  \n",
            "  inflating: Train/Uninfected/C1_thinF_IMG_20150604_104942_cell_151.png  \n",
            "  inflating: Train/Uninfected/C1_thinF_IMG_20150604_104942_cell_152.png  \n",
            "  inflating: Train/Uninfected/C1_thinF_IMG_20150604_104942_cell_154.png  \n",
            "  inflating: Train/Uninfected/C1_thinF_IMG_20150604_104942_cell_156.png  \n",
            "  inflating: Train/Uninfected/C1_thinF_IMG_20150604_104942_cell_168.png  \n",
            "  inflating: Train/Uninfected/C1_thinF_IMG_20150604_104942_cell_185.png  \n",
            "  inflating: Train/Uninfected/C1_thinF_IMG_20150604_104942_cell_20.png  \n",
            "  inflating: Train/Uninfected/C1_thinF_IMG_20150604_104942_cell_203.png  \n",
            "  inflating: Train/Uninfected/C1_thinF_IMG_20150604_104942_cell_209.png  \n",
            "  inflating: Train/Uninfected/C1_thinF_IMG_20150604_104942_cell_218.png  \n",
            "  inflating: Train/Uninfected/C1_thinF_IMG_20150604_104942_cell_269.png  \n",
            "  inflating: Train/Uninfected/C1_thinF_IMG_20150604_104942_cell_4.png  \n",
            "  inflating: Train/Uninfected/C1_thinF_IMG_20150604_104942_cell_59.png  \n",
            "  inflating: Train/Uninfected/C1_thinF_IMG_20150604_104942_cell_72.png  \n",
            "  inflating: Train/Uninfected/C1_thinF_IMG_20150604_104942_cell_98.png  \n",
            "  inflating: Train/Uninfected/C1_thinF_IMG_20150604_105100_cell_130.png  \n",
            "  inflating: Train/Uninfected/C1_thinF_IMG_20150604_105100_cell_134.png  \n",
            "  inflating: Train/Uninfected/C1_thinF_IMG_20150604_105100_cell_151.png  \n",
            "  inflating: Train/Uninfected/C1_thinF_IMG_20150604_105100_cell_152.png  \n",
            "  inflating: Train/Uninfected/C1_thinF_IMG_20150604_105100_cell_157.png  \n",
            "  inflating: Train/Uninfected/C1_thinF_IMG_20150604_105100_cell_180.png  \n",
            "  inflating: Train/Uninfected/C1_thinF_IMG_20150604_105100_cell_186.png  \n",
            "  inflating: Train/Uninfected/C1_thinF_IMG_20150604_105100_cell_201.png  \n",
            "  inflating: Train/Uninfected/C1_thinF_IMG_20150604_105100_cell_211.png  \n",
            "  inflating: Train/Uninfected/C1_thinF_IMG_20150604_105100_cell_213.png  \n",
            "  inflating: Train/Uninfected/C1_thinF_IMG_20150604_105100_cell_232.png  \n",
            "  inflating: Train/Uninfected/C1_thinF_IMG_20150604_105100_cell_243.png  \n",
            "  inflating: Train/Uninfected/C1_thinF_IMG_20150604_105100_cell_275.png  \n",
            "  inflating: Train/Uninfected/C1_thinF_IMG_20150604_105100_cell_277.png  \n",
            "  inflating: Train/Uninfected/C1_thinF_IMG_20150604_105100_cell_43.png  \n",
            "  inflating: Train/Uninfected/C1_thinF_IMG_20150604_105100_cell_53.png  \n",
            "  inflating: Train/Uninfected/C1_thinF_IMG_20150604_105100_cell_69.png  \n",
            "  inflating: Train/Uninfected/C241NThinF_IMG_20151207_124240_cell_169.png  \n",
            "  inflating: Train/Uninfected/C241NThinF_IMG_20151207_124358_cell_119.png  \n",
            "  inflating: Train/Uninfected/C241NThinF_IMG_20151207_124358_cell_130.png  \n",
            "  inflating: Train/Uninfected/C241NThinF_IMG_20151207_124358_cell_137.png  \n",
            "  inflating: Train/Uninfected/C241NThinF_IMG_20151207_124358_cell_144.png  \n",
            "  inflating: Train/Uninfected/C241NThinF_IMG_20151207_124358_cell_149.png  \n",
            "  inflating: Train/Uninfected/C241NThinF_IMG_20151207_124358_cell_35.png  \n",
            "  inflating: Train/Uninfected/C241NThinF_IMG_20151207_124358_cell_73.png  \n",
            "  inflating: Train/Uninfected/C241NThinF_IMG_20151207_124358_cell_82.png  \n",
            "  inflating: Train/Uninfected/C241NThinF_IMG_20151207_124358_cell_84.png  \n",
            "  inflating: Train/Uninfected/C241NThinF_IMG_20151207_124358_cell_91.png  \n",
            "  inflating: Train/Uninfected/C241NThinF_IMG_20151207_124608_cell_104.png  \n",
            "  inflating: Train/Uninfected/C241NThinF_IMG_20151207_124608_cell_120.png  \n",
            "  inflating: Train/Uninfected/C241NThinF_IMG_20151207_124608_cell_125.png  \n",
            "  inflating: Train/Uninfected/C241NThinF_IMG_20151207_124608_cell_171.png  \n",
            "  inflating: Train/Uninfected/C241NThinF_IMG_20151207_124608_cell_22.png  \n",
            "  inflating: Train/Uninfected/C241NThinF_IMG_20151207_124608_cell_30.png  \n",
            "  inflating: Train/Uninfected/C241NThinF_IMG_20151207_124608_cell_40.png  \n",
            "  inflating: Train/Uninfected/C241NThinF_IMG_20151207_124608_cell_51.png  \n",
            "  inflating: Train/Uninfected/C241NThinF_IMG_20151207_124608_cell_61.png  \n",
            "  inflating: Train/Uninfected/C241NThinF_IMG_20151207_124608_cell_90.png  \n",
            "  inflating: Train/Uninfected/C241NThinF_IMG_20151207_124643_cell_125.png  \n",
            "  inflating: Train/Uninfected/C241NThinF_IMG_20151207_124643_cell_136.png  \n",
            "  inflating: Train/Uninfected/C241NThinF_IMG_20151207_124643_cell_158.png  \n",
            "  inflating: Train/Uninfected/C241NThinF_IMG_20151207_124643_cell_169.png  \n",
            "  inflating: Train/Uninfected/C241NThinF_IMG_20151207_124643_cell_25.png  \n",
            "  inflating: Train/Uninfected/C241NThinF_IMG_20151207_124643_cell_26.png  \n",
            "  inflating: Train/Uninfected/C241NThinF_IMG_20151207_124643_cell_45.png  \n",
            "  inflating: Train/Uninfected/C241NThinF_IMG_20151207_124643_cell_46.png  \n",
            "  inflating: Train/Uninfected/C241NThinF_IMG_20151207_124643_cell_91.png  \n",
            "  inflating: Train/Uninfected/C241NThinF_IMG_20151207_124643_cell_96.png  \n",
            "  inflating: Train/Uninfected/C2NThinF_IMG_20150604_114631_cell_141.png  \n",
            "  inflating: Train/Uninfected/C2NThinF_IMG_20150604_114631_cell_144.png  \n",
            "  inflating: Train/Uninfected/C2NThinF_IMG_20150604_114631_cell_150.png  \n",
            "  inflating: Train/Uninfected/C2NThinF_IMG_20150604_114631_cell_155.png  \n",
            "  inflating: Train/Uninfected/C2NThinF_IMG_20150604_114631_cell_187.png  \n",
            "  inflating: Train/Uninfected/C2NThinF_IMG_20150604_114631_cell_204.png  \n",
            "  inflating: Train/Uninfected/C2NThinF_IMG_20150604_114631_cell_214.png  \n",
            "  inflating: Train/Uninfected/C2NThinF_IMG_20150604_114631_cell_215.png  \n",
            "  inflating: Train/Uninfected/C2NThinF_IMG_20150604_114631_cell_38.png  \n",
            "  inflating: Train/Uninfected/C2NThinF_IMG_20150604_114631_cell_52.png  \n",
            "  inflating: Train/Uninfected/C2NThinF_IMG_20150604_114631_cell_72.png  \n",
            "  inflating: Train/Uninfected/C2NThinF_IMG_20150604_114631_cell_74.png  \n",
            "  inflating: Train/Uninfected/C2NThinF_IMG_20150604_114631_cell_84.png  \n",
            "  inflating: Train/Uninfected/C2NThinF_IMG_20150604_114631_cell_99.png  \n",
            "  inflating: Train/Uninfected/C2NThinF_IMG_20150604_114730_cell_113.png  \n",
            "  inflating: Train/Uninfected/C2NThinF_IMG_20150604_114730_cell_12.png  \n",
            "  inflating: Train/Uninfected/C2NThinF_IMG_20150604_114730_cell_124.png  \n",
            "  inflating: Train/Uninfected/C2NThinF_IMG_20150604_114730_cell_13.png  \n",
            "  inflating: Train/Uninfected/C2NThinF_IMG_20150604_114730_cell_139.png  \n",
            "  inflating: Train/Uninfected/C2NThinF_IMG_20150604_114730_cell_161.png  \n",
            "  inflating: Train/Uninfected/C2NThinF_IMG_20150604_114730_cell_172.png  \n",
            "  inflating: Train/Uninfected/C2NThinF_IMG_20150604_114730_cell_173.png  \n",
            "  inflating: Train/Uninfected/C2NThinF_IMG_20150604_114730_cell_178.png  \n",
            "  inflating: Train/Uninfected/C2NThinF_IMG_20150604_114730_cell_183.png  \n",
            "  inflating: Train/Uninfected/C2NThinF_IMG_20150604_114730_cell_36.png  \n",
            "  inflating: Train/Uninfected/C2NThinF_IMG_20150604_114730_cell_72.png  \n",
            "  inflating: Train/Uninfected/C2NThinF_IMG_20150604_114730_cell_98.png  \n",
            "  inflating: Train/Uninfected/C2NThinF_IMG_20150604_114751_cell_101.png  \n",
            "  inflating: Train/Uninfected/C2NThinF_IMG_20150604_114751_cell_106.png  \n",
            "  inflating: Train/Uninfected/C2NThinF_IMG_20150604_114751_cell_107.png  \n",
            "  inflating: Train/Uninfected/C2NThinF_IMG_20150604_114751_cell_113.png  \n",
            "  inflating: Train/Uninfected/C2NThinF_IMG_20150604_114751_cell_127.png  \n",
            "  inflating: Train/Uninfected/C2NThinF_IMG_20150604_114751_cell_142.png  \n",
            "  inflating: Train/Uninfected/C2NThinF_IMG_20150604_114751_cell_181.png  \n",
            "  inflating: Train/Uninfected/C2NThinF_IMG_20150604_114751_cell_197.png  \n",
            "  inflating: Train/Uninfected/C2NThinF_IMG_20150604_114751_cell_217.png  \n",
            "  inflating: Train/Uninfected/C2NThinF_IMG_20150604_114751_cell_221.png  \n",
            "  inflating: Train/Uninfected/C2NThinF_IMG_20150604_114751_cell_38.png  \n",
            "  inflating: Train/Uninfected/C2NThinF_IMG_20150604_114751_cell_69.png  \n",
            "  inflating: Train/Uninfected/C2NThinF_IMG_20150604_114751_cell_92.png  \n",
            "  inflating: Train/Uninfected/C2NThinF_IMG_20150604_114751_cell_93.png  \n",
            "  inflating: Train/Uninfected/C2NThinF_IMG_20150604_114815_cell_107.png  \n",
            "  inflating: Train/Uninfected/C2NThinF_IMG_20150604_114815_cell_128.png  \n",
            "  inflating: Train/Uninfected/C2NThinF_IMG_20150604_114815_cell_142.png  \n",
            "  inflating: Train/Uninfected/C2NThinF_IMG_20150604_114815_cell_217.png  \n",
            "  inflating: Train/Uninfected/C2NThinF_IMG_20150604_114815_cell_232.png  \n",
            "  inflating: Train/Uninfected/C2NThinF_IMG_20150604_114815_cell_233.png  \n",
            "  inflating: Train/Uninfected/C2NThinF_IMG_20150604_114815_cell_235.png  \n",
            "  inflating: Train/Uninfected/C2NThinF_IMG_20150604_114815_cell_242.png  \n",
            "  inflating: Train/Uninfected/C2NThinF_IMG_20150604_114815_cell_6.png  \n",
            "  inflating: Train/Uninfected/C2NThinF_IMG_20150604_114815_cell_62.png  \n",
            "  inflating: Train/Uninfected/C2NThinF_IMG_20150604_114815_cell_66.png  \n",
            "  inflating: Train/Uninfected/C2NThinF_IMG_20150604_114815_cell_73.png  \n",
            "  inflating: Train/Uninfected/C2NThinF_IMG_20150604_114815_cell_9.png  \n",
            "  inflating: Train/Uninfected/C2NThinF_IMG_20150604_114815_cell_95.png  \n",
            "  inflating: Train/Uninfected/C2NThinF_IMG_20150604_115238_cell_115.png  \n",
            "  inflating: Train/Uninfected/C2NThinF_IMG_20150604_115238_cell_117.png  \n",
            "  inflating: Train/Uninfected/C2NThinF_IMG_20150604_115238_cell_126.png  \n",
            "  inflating: Train/Uninfected/C2NThinF_IMG_20150604_115238_cell_13.png  \n",
            "  inflating: Train/Uninfected/C2NThinF_IMG_20150604_115238_cell_133.png  \n",
            "  inflating: Train/Uninfected/C2NThinF_IMG_20150604_115238_cell_138.png  \n",
            "  inflating: Train/Uninfected/C2NThinF_IMG_20150604_115238_cell_196.png  \n",
            "  inflating: Train/Uninfected/C3thin_original_IMG_20150608_163002_cell_159.png  \n",
            "  inflating: Train/Uninfected/C3thin_original_IMG_20150608_163002_cell_195.png  \n",
            "  inflating: Train/Uninfected/C3thin_original_IMG_20150608_163029_cell_1.png  \n",
            "  inflating: Train/Uninfected/C3thin_original_IMG_20150608_163029_cell_109.png  \n",
            "  inflating: Train/Uninfected/C3thin_original_IMG_20150608_163029_cell_121.png  \n",
            "  inflating: Train/Uninfected/C3thin_original_IMG_20150608_163029_cell_125.png  \n",
            "  inflating: Train/Uninfected/C3thin_original_IMG_20150608_163029_cell_156.png  \n",
            "  inflating: Train/Uninfected/C3thin_original_IMG_20150608_163029_cell_166.png  \n",
            "  inflating: Train/Uninfected/C3thin_original_IMG_20150608_163029_cell_186.png  \n",
            "  inflating: Train/Uninfected/C3thin_original_IMG_20150608_163029_cell_202.png  \n",
            "  inflating: Train/Uninfected/C3thin_original_IMG_20150608_163029_cell_220.png  \n",
            "  inflating: Train/Uninfected/C3thin_original_IMG_20150608_163029_cell_44.png  \n",
            "  inflating: Train/Uninfected/C3thin_original_IMG_20150608_163029_cell_52.png  \n",
            "  inflating: Train/Uninfected/C3thin_original_IMG_20150608_163029_cell_57.png  \n",
            "  inflating: Train/Uninfected/C3thin_original_IMG_20150608_163029_cell_80.png  \n",
            "  inflating: Train/Uninfected/C3thin_original_IMG_20150608_163029_cell_83.png  \n",
            "  inflating: Train/Uninfected/C3thin_original_IMG_20150608_163047_cell_103.png  \n",
            "  inflating: Train/Uninfected/C3thin_original_IMG_20150608_163047_cell_145.png  \n",
            "  inflating: Train/Uninfected/C3thin_original_IMG_20150608_163047_cell_147.png  \n",
            "  inflating: Train/Uninfected/C3thin_original_IMG_20150608_163047_cell_161.png  \n",
            "  inflating: Train/Uninfected/C3thin_original_IMG_20150608_163047_cell_168.png  \n",
            "  inflating: Train/Uninfected/C3thin_original_IMG_20150608_163047_cell_183.png  \n",
            "  inflating: Train/Uninfected/C3thin_original_IMG_20150608_163047_cell_192.png  \n",
            "  inflating: Train/Uninfected/C3thin_original_IMG_20150608_163047_cell_212.png  \n",
            "  inflating: Train/Uninfected/C3thin_original_IMG_20150608_163047_cell_214.png  \n",
            "  inflating: Train/Uninfected/C3thin_original_IMG_20150608_163047_cell_215.png  \n",
            "  inflating: Train/Uninfected/C3thin_original_IMG_20150608_163047_cell_22.png  \n",
            "  inflating: Train/Uninfected/C3thin_original_IMG_20150608_163047_cell_236.png  \n",
            "  inflating: Train/Uninfected/C3thin_original_IMG_20150608_163047_cell_26.png  \n",
            "  inflating: Train/Uninfected/C3thin_original_IMG_20150608_163047_cell_36.png  \n",
            "  inflating: Train/Uninfected/C4thin_original_IMG_20150608_165540_cell_19.png  \n",
            "  inflating: Train/Uninfected/C4thin_original_IMG_20150608_165540_cell_50.png  \n",
            "  inflating: Train/Uninfected/C4thin_original_IMG_20150608_165540_cell_52.png  \n"
          ],
          "name": "stdout"
        }
      ]
    },
    {
      "cell_type": "code",
      "metadata": {
        "id": "AH0fJfLZ2vc3"
      },
      "source": [
        "!mkdir dataset"
      ],
      "execution_count": null,
      "outputs": []
    },
    {
      "cell_type": "code",
      "metadata": {
        "colab": {
          "base_uri": "https://localhost:8080/"
        },
        "id": "52EZhqoR3IUw",
        "outputId": "86732f75-561f-49e4-d9ab-af211a6205cd"
      },
      "source": [
        "!pwd"
      ],
      "execution_count": null,
      "outputs": [
        {
          "output_type": "stream",
          "text": [
            "/content/drive/My Drive/COLAB/Malaria detection\n"
          ],
          "name": "stdout"
        }
      ]
    },
    {
      "cell_type": "code",
      "metadata": {
        "id": "WlqNrE1t3c8D"
      },
      "source": [
        "!mv \"/content/drive/MyDrive/COLAB/Malaria detection/Train\" \"/content/drive/MyDrive/COLAB/Malaria detection/dataset\""
      ],
      "execution_count": null,
      "outputs": []
    },
    {
      "cell_type": "code",
      "metadata": {
        "id": "VuRP3JLx3qFB"
      },
      "source": [
        "!rm \"/content/drive/MyDrive/COLAB/Malaria detection/dataset.zip\""
      ],
      "execution_count": null,
      "outputs": []
    },
    {
      "cell_type": "code",
      "metadata": {
        "colab": {
          "base_uri": "https://localhost:8080/"
        },
        "id": "HmCqFeU832io",
        "outputId": "65d58d21-8feb-4038-f13a-38b4fe65c989"
      },
      "source": [
        "import tensorflow as tf\n",
        "print(tf.__version__)"
      ],
      "execution_count": 7,
      "outputs": [
        {
          "output_type": "stream",
          "text": [
            "2.4.1\n"
          ],
          "name": "stdout"
        }
      ]
    },
    {
      "cell_type": "code",
      "metadata": {
        "id": "V8081BNK-TFG"
      },
      "source": [
        "#### Creating CNN Using Scratch Ad Transfer Learning"
      ],
      "execution_count": null,
      "outputs": []
    },
    {
      "cell_type": "code",
      "metadata": {
        "id": "rQg6SbTq9kqk"
      },
      "source": [
        "from tensorflow.keras.layers import Input, Lambda, Dense, Flatten, Conv2D\n",
        "from tensorflow.keras.models import Model\n",
        "from tensorflow.keras.applications.vgg19 import VGG19\n",
        "from tensorflow.keras.applications.resnet50 import preprocess_input\n",
        "from tensorflow.keras.preprocessing import image\n",
        "from tensorflow.keras.preprocessing.image import ImageDataGenerator, load_img\n",
        "from tensorflow.keras.models import Sequential\n",
        "import numpy as np\n",
        "from glob import glob\n",
        "import matplotlib.pyplot as plt\n"
      ],
      "execution_count": 8,
      "outputs": []
    },
    {
      "cell_type": "code",
      "metadata": {
        "id": "dlS6_snp_56T"
      },
      "source": [
        " #resize image to 224 px\n",
        " Image_size = [224, 224]\n",
        "\n",
        "#path dir in google drive\n",
        "#generate test, train data before call here\n",
        " train_path = \"/content/drive/MyDrive/COLAB/Malaria detection/dataset/Train\"\n",
        " test_path = \"/content/drive/MyDrive/COLAB/Malaria detection/dataset/Test\""
      ],
      "execution_count": 9,
      "outputs": []
    },
    {
      "cell_type": "code",
      "metadata": {
        "colab": {
          "base_uri": "https://localhost:8080/"
        },
        "id": "uaKq56XUC_W1",
        "outputId": "0ddb259c-3598-4902-88ba-cce3a14488c3"
      },
      "source": [
        "vgg19 = VGG19(input_shape=Image_size + [3], weights='imagenet', include_top=False) # [3] is rgb channel"
      ],
      "execution_count": 10,
      "outputs": [
        {
          "output_type": "stream",
          "text": [
            "Downloading data from https://storage.googleapis.com/tensorflow/keras-applications/vgg19/vgg19_weights_tf_dim_ordering_tf_kernels_notop.h5\n",
            "80142336/80134624 [==============================] - 1s 0us/step\n"
          ],
          "name": "stdout"
        }
      ]
    },
    {
      "cell_type": "code",
      "metadata": {
        "colab": {
          "base_uri": "https://localhost:8080/"
        },
        "id": "3tWQJy1QEsf6",
        "outputId": "ed39261b-1987-40c1-b24c-f01b1370ac96"
      },
      "source": [
        "vgg19.summary()"
      ],
      "execution_count": 11,
      "outputs": [
        {
          "output_type": "stream",
          "text": [
            "Model: \"vgg19\"\n",
            "_________________________________________________________________\n",
            "Layer (type)                 Output Shape              Param #   \n",
            "=================================================================\n",
            "input_1 (InputLayer)         [(None, 224, 224, 3)]     0         \n",
            "_________________________________________________________________\n",
            "block1_conv1 (Conv2D)        (None, 224, 224, 64)      1792      \n",
            "_________________________________________________________________\n",
            "block1_conv2 (Conv2D)        (None, 224, 224, 64)      36928     \n",
            "_________________________________________________________________\n",
            "block1_pool (MaxPooling2D)   (None, 112, 112, 64)      0         \n",
            "_________________________________________________________________\n",
            "block2_conv1 (Conv2D)        (None, 112, 112, 128)     73856     \n",
            "_________________________________________________________________\n",
            "block2_conv2 (Conv2D)        (None, 112, 112, 128)     147584    \n",
            "_________________________________________________________________\n",
            "block2_pool (MaxPooling2D)   (None, 56, 56, 128)       0         \n",
            "_________________________________________________________________\n",
            "block3_conv1 (Conv2D)        (None, 56, 56, 256)       295168    \n",
            "_________________________________________________________________\n",
            "block3_conv2 (Conv2D)        (None, 56, 56, 256)       590080    \n",
            "_________________________________________________________________\n",
            "block3_conv3 (Conv2D)        (None, 56, 56, 256)       590080    \n",
            "_________________________________________________________________\n",
            "block3_conv4 (Conv2D)        (None, 56, 56, 256)       590080    \n",
            "_________________________________________________________________\n",
            "block3_pool (MaxPooling2D)   (None, 28, 28, 256)       0         \n",
            "_________________________________________________________________\n",
            "block4_conv1 (Conv2D)        (None, 28, 28, 512)       1180160   \n",
            "_________________________________________________________________\n",
            "block4_conv2 (Conv2D)        (None, 28, 28, 512)       2359808   \n",
            "_________________________________________________________________\n",
            "block4_conv3 (Conv2D)        (None, 28, 28, 512)       2359808   \n",
            "_________________________________________________________________\n",
            "block4_conv4 (Conv2D)        (None, 28, 28, 512)       2359808   \n",
            "_________________________________________________________________\n",
            "block4_pool (MaxPooling2D)   (None, 14, 14, 512)       0         \n",
            "_________________________________________________________________\n",
            "block5_conv1 (Conv2D)        (None, 14, 14, 512)       2359808   \n",
            "_________________________________________________________________\n",
            "block5_conv2 (Conv2D)        (None, 14, 14, 512)       2359808   \n",
            "_________________________________________________________________\n",
            "block5_conv3 (Conv2D)        (None, 14, 14, 512)       2359808   \n",
            "_________________________________________________________________\n",
            "block5_conv4 (Conv2D)        (None, 14, 14, 512)       2359808   \n",
            "_________________________________________________________________\n",
            "block5_pool (MaxPooling2D)   (None, 7, 7, 512)         0         \n",
            "=================================================================\n",
            "Total params: 20,024,384\n",
            "Trainable params: 20,024,384\n",
            "Non-trainable params: 0\n",
            "_________________________________________________________________\n"
          ],
          "name": "stdout"
        }
      ]
    },
    {
      "cell_type": "code",
      "metadata": {
        "id": "vfeJDvrtFbJe"
      },
      "source": [
        "#dont train existing weights since we are using transfer learning\n",
        "#retraining only happen in last layer\n",
        "\n",
        "for layer in vgg19.layers:\n",
        "  layer.trainable = False"
      ],
      "execution_count": 12,
      "outputs": []
    },
    {
      "cell_type": "code",
      "metadata": {
        "id": "YBfwMHVXGXvi"
      },
      "source": [
        "#useful to get number of output class\n",
        "folders = glob(\"/content/drive/MyDrive/COLAB/Malaria detection/dataset/Train/*\") "
      ],
      "execution_count": 13,
      "outputs": []
    },
    {
      "cell_type": "code",
      "metadata": {
        "colab": {
          "base_uri": "https://localhost:8080/"
        },
        "id": "loARD8JdGzG7",
        "outputId": "57ef6235-6da8-44e6-c81c-45cb7bd89f1e"
      },
      "source": [
        "folders"
      ],
      "execution_count": 14,
      "outputs": [
        {
          "output_type": "execute_result",
          "data": {
            "text/plain": [
              "['/content/drive/MyDrive/COLAB/Malaria detection/dataset/Train/Parasite',\n",
              " '/content/drive/MyDrive/COLAB/Malaria detection/dataset/Train/Uninfected']"
            ]
          },
          "metadata": {
            "tags": []
          },
          "execution_count": 14
        }
      ]
    },
    {
      "cell_type": "code",
      "metadata": {
        "id": "pO61l1keG1dM"
      },
      "source": [
        "#our layers - can add more\n",
        "x = Flatten()(vgg19.output)"
      ],
      "execution_count": 15,
      "outputs": []
    },
    {
      "cell_type": "code",
      "metadata": {
        "id": "uFdpQ8ZVHt_6"
      },
      "source": [
        "#dense layer\n",
        "prediction = Dense(len(folders), activation='softmax')(x)\n",
        "\n",
        "#create a model object\n",
        "model = Model(inputs=vgg19.input, outputs=prediction)"
      ],
      "execution_count": 16,
      "outputs": []
    },
    {
      "cell_type": "code",
      "metadata": {
        "colab": {
          "base_uri": "https://localhost:8080/"
        },
        "id": "nzTsFgh7IEmf",
        "outputId": "9b127bc3-c044-497d-8489-0519a33a25d5"
      },
      "source": [
        "#structure of the model\n",
        "model.summary()"
      ],
      "execution_count": 17,
      "outputs": [
        {
          "output_type": "stream",
          "text": [
            "Model: \"model\"\n",
            "_________________________________________________________________\n",
            "Layer (type)                 Output Shape              Param #   \n",
            "=================================================================\n",
            "input_1 (InputLayer)         [(None, 224, 224, 3)]     0         \n",
            "_________________________________________________________________\n",
            "block1_conv1 (Conv2D)        (None, 224, 224, 64)      1792      \n",
            "_________________________________________________________________\n",
            "block1_conv2 (Conv2D)        (None, 224, 224, 64)      36928     \n",
            "_________________________________________________________________\n",
            "block1_pool (MaxPooling2D)   (None, 112, 112, 64)      0         \n",
            "_________________________________________________________________\n",
            "block2_conv1 (Conv2D)        (None, 112, 112, 128)     73856     \n",
            "_________________________________________________________________\n",
            "block2_conv2 (Conv2D)        (None, 112, 112, 128)     147584    \n",
            "_________________________________________________________________\n",
            "block2_pool (MaxPooling2D)   (None, 56, 56, 128)       0         \n",
            "_________________________________________________________________\n",
            "block3_conv1 (Conv2D)        (None, 56, 56, 256)       295168    \n",
            "_________________________________________________________________\n",
            "block3_conv2 (Conv2D)        (None, 56, 56, 256)       590080    \n",
            "_________________________________________________________________\n",
            "block3_conv3 (Conv2D)        (None, 56, 56, 256)       590080    \n",
            "_________________________________________________________________\n",
            "block3_conv4 (Conv2D)        (None, 56, 56, 256)       590080    \n",
            "_________________________________________________________________\n",
            "block3_pool (MaxPooling2D)   (None, 28, 28, 256)       0         \n",
            "_________________________________________________________________\n",
            "block4_conv1 (Conv2D)        (None, 28, 28, 512)       1180160   \n",
            "_________________________________________________________________\n",
            "block4_conv2 (Conv2D)        (None, 28, 28, 512)       2359808   \n",
            "_________________________________________________________________\n",
            "block4_conv3 (Conv2D)        (None, 28, 28, 512)       2359808   \n",
            "_________________________________________________________________\n",
            "block4_conv4 (Conv2D)        (None, 28, 28, 512)       2359808   \n",
            "_________________________________________________________________\n",
            "block4_pool (MaxPooling2D)   (None, 14, 14, 512)       0         \n",
            "_________________________________________________________________\n",
            "block5_conv1 (Conv2D)        (None, 14, 14, 512)       2359808   \n",
            "_________________________________________________________________\n",
            "block5_conv2 (Conv2D)        (None, 14, 14, 512)       2359808   \n",
            "_________________________________________________________________\n",
            "block5_conv3 (Conv2D)        (None, 14, 14, 512)       2359808   \n",
            "_________________________________________________________________\n",
            "block5_conv4 (Conv2D)        (None, 14, 14, 512)       2359808   \n",
            "_________________________________________________________________\n",
            "block5_pool (MaxPooling2D)   (None, 7, 7, 512)         0         \n",
            "_________________________________________________________________\n",
            "flatten (Flatten)            (None, 25088)             0         \n",
            "_________________________________________________________________\n",
            "dense (Dense)                (None, 2)                 50178     \n",
            "=================================================================\n",
            "Total params: 20,074,562\n",
            "Trainable params: 50,178\n",
            "Non-trainable params: 20,024,384\n",
            "_________________________________________________________________\n"
          ],
          "name": "stdout"
        }
      ]
    },
    {
      "cell_type": "code",
      "metadata": {
        "id": "O9tq5Oo1IJdE"
      },
      "source": [
        ""
      ],
      "execution_count": null,
      "outputs": []
    },
    {
      "cell_type": "markdown",
      "metadata": {
        "id": "3JWG_yxxNcib"
      },
      "source": [
        ""
      ]
    }
  ]
}